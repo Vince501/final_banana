{
 "cells": [
  {
   "cell_type": "code",
   "execution_count": null,
   "metadata": {
    "pycharm": {
     "name": "#%%\n"
    },
    "id": "DurFlmsY5omU"
   },
   "outputs": [],
   "source": [
    "import numpy as np\n",
    "import matplotlib.pyplot as plt\n",
    "import glob\n",
    "import cv2\n",
    "import os\n",
    "import seaborn as sns"
   ]
  },
  {
   "cell_type": "code",
   "source": [
    "from google.colab import drive\n",
    "drive.mount('/content/drive', force_remount=True)"
   ],
   "metadata": {
    "colab": {
     "base_uri": "https://localhost:8080/"
    },
    "id": "ysbByPJL5xmy",
    "outputId": "6dee64f7-c4b8-4ecb-e191-67808d60eedf"
   },
   "execution_count": null,
   "outputs": [
    {
     "output_type": "stream",
     "name": "stdout",
     "text": [
      "Mounted at /content/drive\n"
     ]
    }
   ]
  },
  {
   "cell_type": "code",
   "source": [
    "! ls -l"
   ],
   "metadata": {
    "colab": {
     "base_uri": "https://localhost:8080/"
    },
    "id": "rEonshOa8ojr",
    "outputId": "322b8c8f-1faf-4a45-df3f-cff77f5ce334"
   },
   "execution_count": null,
   "outputs": [
    {
     "output_type": "stream",
     "name": "stdout",
     "text": [
      "total 8\n",
      "drwx------ 6 root root 4096 Dec  4 11:50 drive\n",
      "drwxr-xr-x 1 root root 4096 Dec  1 20:08 sample_data\n"
     ]
    }
   ]
  },
  {
   "cell_type": "code",
   "source": [
    "cd \"/content/drive/MyDrive/project/\""
   ],
   "metadata": {
    "colab": {
     "base_uri": "https://localhost:8080/"
    },
    "id": "VFst5MWt-BeD",
    "outputId": "5d55961a-ae41-4cb8-aacc-01b922f97508"
   },
   "execution_count": null,
   "outputs": [
    {
     "output_type": "stream",
     "name": "stdout",
     "text": [
      "/content/drive/MyDrive/project\n"
     ]
    }
   ]
  },
  {
   "cell_type": "code",
   "source": [
    "!ls"
   ],
   "metadata": {
    "colab": {
     "base_uri": "https://localhost:8080/"
    },
    "id": "w3dt8wR5-gT9",
    "outputId": "5940c929-e222-401a-ae91-c1a21a41e99e"
   },
   "execution_count": null,
   "outputs": [
    {
     "output_type": "stream",
     "name": "stdout",
     "text": [
      "content  model1.tflite\tmodels_saved  project_banana.ipynb\n",
      "logs\t model3.tf\tpictures      venv\n"
     ]
    }
   ]
  },
  {
   "cell_type": "code",
   "source": [
    "os.getcwd()"
   ],
   "metadata": {
    "colab": {
     "base_uri": "https://localhost:8080/",
     "height": 35
    },
    "id": "ZuomO4OrEeW8",
    "outputId": "d2a802d6-ba59-4274-b3bc-a1328d0566a7"
   },
   "execution_count": null,
   "outputs": [
    {
     "output_type": "execute_result",
     "data": {
      "text/plain": [
       "'/content/drive/MyDrive/project'"
      ],
      "application/vnd.google.colaboratory.intrinsic+json": {
       "type": "string"
      }
     },
     "metadata": {},
     "execution_count": 6
    }
   ]
  },
  {
   "cell_type": "code",
   "execution_count": null,
   "outputs": [],
   "source": [
    "pip install --upgrade pip"
   ],
   "metadata": {
    "pycharm": {
     "name": "#%%\n"
    },
    "id": "-eodB-b05oma"
   }
  },
  {
   "cell_type": "code",
   "execution_count": null,
   "outputs": [],
   "source": [
    "pip install tensorflow"
   ],
   "metadata": {
    "pycharm": {
     "name": "#%%\n"
    },
    "id": "CTfpq9xs5omb"
   }
  },
  {
   "cell_type": "code",
   "execution_count": null,
   "outputs": [],
   "source": [
    "pip install tensorflow-gpu"
   ],
   "metadata": {
    "pycharm": {
     "name": "#%%\n"
    },
    "id": "krvk_2LU5omc"
   }
  },
  {
   "cell_type": "code",
   "execution_count": null,
   "outputs": [],
   "source": [
    "import keras"
   ],
   "metadata": {
    "pycharm": {
     "name": "#%%\n"
    },
    "id": "v_8pHHp65omc"
   }
  },
  {
   "cell_type": "code",
   "execution_count": null,
   "outputs": [],
   "source": [
    "import tensorflow"
   ],
   "metadata": {
    "pycharm": {
     "name": "#%%\n"
    },
    "id": "605294rv5omd"
   }
  },
  {
   "cell_type": "code",
   "execution_count": null,
   "outputs": [],
   "source": [
    "from tensorflow.keras.models import Model, Sequential\n",
    "from tensorflow.keras.layers import Dense, Flatten, Conv2D, MaxPooling2D\n",
    "from tensorflow.keras.models import Sequential\n",
    "from tensorflow.keras.layers import BatchNormalization"
   ],
   "metadata": {
    "pycharm": {
     "name": "#%%\n"
    },
    "id": "N_PjF_Kn5omd"
   }
  },
  {
   "cell_type": "code",
   "execution_count": null,
   "metadata": {
    "pycharm": {
     "name": "#%%\n"
    },
    "colab": {
     "base_uri": "https://localhost:8080/"
    },
    "id": "rXqTquMw5ome",
    "outputId": "7b2d6be1-5bf5-4299-a1ca-5138d7a3aa6b"
   },
   "outputs": [
    {
     "output_type": "execute_result",
     "data": {
      "text/plain": [
       "['over_ripe', 'ripe', 'rotten', 'unripe']"
      ]
     },
     "metadata": {},
     "execution_count": 13
    }
   ],
   "source": [
    "data_dir = 'pictures/validationData'\n",
    "\n",
    "os.listdir(data_dir)"
   ]
  },
  {
   "cell_type": "code",
   "execution_count": null,
   "metadata": {
    "pycharm": {
     "name": "#%%\n"
    },
    "colab": {
     "base_uri": "https://localhost:8080/"
    },
    "id": "0a3iCSa55omf",
    "outputId": "8ef70e62-94aa-40b3-e31a-c55e0937e961"
   },
   "outputs": [
    {
     "output_type": "execute_result",
     "data": {
      "text/plain": [
       "['unripe', 'rotten', 'ripe', 'over_ripe']"
      ]
     },
     "metadata": {},
     "execution_count": 14
    }
   ],
   "source": [
    "data_dir = 'pictures/trainData'\n",
    "\n",
    "os.listdir(data_dir)"
   ]
  },
  {
   "cell_type": "code",
   "source": [
    "data_dir = 'pictures/test'\n",
    "\n",
    "os.listdir(data_dir)"
   ],
   "metadata": {
    "colab": {
     "base_uri": "https://localhost:8080/"
    },
    "id": "qOwJLPbVH9bR",
    "outputId": "85e91005-d564-4b2d-8fd4-dae67c68ca9b"
   },
   "execution_count": null,
   "outputs": [
    {
     "output_type": "execute_result",
     "data": {
      "text/plain": [
       "['over_ripe', 'ripe', 'rotten', 'test_classes.csv', 'unripe']"
      ]
     },
     "metadata": {},
     "execution_count": 37
    }
   ]
  },
  {
   "cell_type": "code",
   "execution_count": null,
   "metadata": {
    "pycharm": {
     "name": "#%%\n"
    },
    "id": "3HlP-e1F5omg"
   },
   "outputs": [],
   "source": [
    "SIZE = 128\n",
    "\n",
    "train_images = []\n",
    "train_labels = []\n",
    "for directory_path in glob.glob(\"pictures/trainData/*\"):\n",
    "    label = directory_path.split(\"\\\\\")[-1]\n",
    "    print(label)\n",
    "    for img_path in glob.glob(os.path.join(directory_path, \"*.jpg\")):\n",
    "        print(img_path)\n",
    "        img = cv2.imread(img_path, cv2.IMREAD_COLOR)\n",
    "        img = cv2.resize(img, (SIZE, SIZE))\n",
    "        img = cv2.cvtColor(img, cv2.COLOR_RGB2BGR)\n",
    "        train_images.append(img)\n",
    "        train_labels.append(label)\n",
    "train_images = np.array(train_images)\n",
    "train_labels = np.array(train_labels)"
   ]
  },
  {
   "cell_type": "code",
   "execution_count": null,
   "metadata": {
    "pycharm": {
     "name": "#%%\n"
    },
    "id": "3H1F2Kb-5omh"
   },
   "outputs": [],
   "source": [
    "# validation\n",
    "validation_images = []\n",
    "validation_labels = []\n",
    "for directory_path in glob.glob(\"pictures/validationData/*\"):\n",
    "    fruit_label = directory_path.split(\"\\\\\")[-1]\n",
    "    for img_path in glob.glob(os.path.join(directory_path, \"*.jpg\")):\n",
    "        img = cv2.imread(img_path, cv2.IMREAD_COLOR)\n",
    "        img = cv2.resize(img, (SIZE, SIZE))\n",
    "        img = cv2.cvtColor(img, cv2.COLOR_RGB2BGR)\n",
    "        validation_images.append(img)\n",
    "        validation_labels.append(fruit_label)\n",
    "validation_images = np.array(validation_images)\n",
    "validation_labels = np.array(validation_labels)"
   ]
  },
  {
   "cell_type": "code",
   "source": [
    "validation_images.shape"
   ],
   "metadata": {
    "colab": {
     "base_uri": "https://localhost:8080/"
    },
    "id": "3ApQiyvZZSTh",
    "outputId": "8f79caa6-9b26-4911-8f27-e36e16400433"
   },
   "execution_count": null,
   "outputs": [
    {
     "output_type": "execute_result",
     "data": {
      "text/plain": [
       "(648, 128, 128, 3)"
      ]
     },
     "metadata": {},
     "execution_count": 17
    }
   ]
  },
  {
   "cell_type": "code",
   "source": [
    "# test\n",
    "test_images = []\n",
    "test_labels = []\n",
    "for directory_path in glob.glob(\"pictures/test/*\"):\n",
    "    fruit_label = directory_path.split(\"\\\\\")[-1]\n",
    "    for img_path in glob.glob(os.path.join(directory_path, \"*.jpg\")):\n",
    "        img = cv2.imread(img_path, cv2.IMREAD_COLOR)\n",
    "        img = cv2.resize(img, (SIZE, SIZE))\n",
    "        img = cv2.cvtColor(img, cv2.COLOR_RGB2BGR)\n",
    "        test_images.append(img)\n",
    "        test_labels.append(fruit_label)\n",
    "test_images = np.array(test_images)\n",
    "test_labels = np.array(test_labels)"
   ],
   "metadata": {
    "id": "839uFWp6AmRJ"
   },
   "execution_count": null,
   "outputs": []
  },
  {
   "cell_type": "code",
   "execution_count": null,
   "metadata": {
    "pycharm": {
     "name": "#%%\n"
    },
    "id": "-6puiX8l5omh"
   },
   "outputs": [],
   "source": [
    "import sklearn\n",
    "#Encode labels from text to integers.\n",
    "from sklearn import preprocessing\n",
    "le = preprocessing.LabelEncoder()\n",
    "le.fit(validation_labels)\n",
    "validation_labels_encoded = le.transform(validation_labels)\n",
    "le.fit(train_labels)\n",
    "train_labels_encoded = le.transform(train_labels)"
   ]
  },
  {
   "cell_type": "code",
   "execution_count": null,
   "metadata": {
    "pycharm": {
     "name": "#%%\n"
    },
    "id": "-atX8usn5omi"
   },
   "outputs": [],
   "source": [
    "#Split data into validation and train datasets (already split but assigning to meaningful convention)\n",
    "x_train, y_train, x_validation, y_validation = train_images, train_labels_encoded, validation_images, validation_labels_encoded\n",
    "# Normalize pixel values to between 0 and 1\n",
    "x_train, x_validation = x_train / 255.0, x_validation / 255.0\n",
    "\n",
    "# testing\n",
    "x_test = test_images\n",
    "x_test = x_test / 255.0"
   ]
  },
  {
   "cell_type": "code",
   "execution_count": null,
   "metadata": {
    "pycharm": {
     "name": "#%%\n"
    },
    "id": "zud2LeKS5omi"
   },
   "outputs": [],
   "source": [
    "#One hot encode y values for neural network.\n",
    "from keras.utils import to_categorical\n",
    "y_train_one_hot = to_categorical(y_train)\n",
    "y_validation_one_hot = to_categorical(y_validation)"
   ]
  },
  {
   "cell_type": "code",
   "execution_count": null,
   "metadata": {
    "pycharm": {
     "name": "#%%\n"
    },
    "id": "agtg0q-W5omj"
   },
   "outputs": [],
   "source": [
    "activation = 'relu'\n",
    "\n",
    "#feature_extractor instead of model\n",
    "feature_extractor = Sequential()\n",
    "feature_extractor.add(Conv2D(32, 3, activation = activation, padding = 'same', input_shape = (SIZE, SIZE, 3)))\n",
    "feature_extractor.add(BatchNormalization())\n",
    "\n",
    "feature_extractor.add(Conv2D(32, 3, activation = activation, padding = 'same', kernel_initializer = 'he_uniform'))\n",
    "feature_extractor.add(BatchNormalization())\n",
    "feature_extractor.add(MaxPooling2D())\n",
    "\n",
    "feature_extractor.add(Conv2D(64, 3, activation = activation, padding = 'same', kernel_initializer = 'he_uniform'))\n",
    "feature_extractor.add(BatchNormalization())\n",
    "\n",
    "feature_extractor.add(Conv2D(64, 3, activation = activation, padding = 'same', kernel_initializer = 'he_uniform'))\n",
    "feature_extractor.add(BatchNormalization())\n",
    "feature_extractor.add(MaxPooling2D())\n",
    "\n",
    "feature_extractor.add(Flatten())"
   ]
  },
  {
   "cell_type": "code",
   "execution_count": null,
   "metadata": {
    "pycharm": {
     "name": "#%%\n"
    },
    "id": "QLF4f95Z5omj"
   },
   "outputs": [],
   "source": [
    "#Add layers for deep learning prediction\n",
    "x = feature_extractor.output\n",
    "x = Dense(128, activation = activation, kernel_initializer = 'he_uniform')(x)\n",
    "prediction_layer = Dense(4, activation = 'softmax')(x)\n",
    "#because of 4 classes"
   ]
  },
  {
   "cell_type": "code",
   "execution_count": null,
   "metadata": {
    "pycharm": {
     "name": "#%%\n"
    },
    "colab": {
     "base_uri": "https://localhost:8080/"
    },
    "id": "Ye_kpUsL5omk",
    "outputId": "28f54c96-9248-4d63-b9c9-638eeba2c9c4"
   },
   "outputs": [
    {
     "output_type": "stream",
     "name": "stdout",
     "text": [
      "Model: \"model\"\n",
      "_________________________________________________________________\n",
      " Layer (type)                Output Shape              Param #   \n",
      "=================================================================\n",
      " conv2d_input (InputLayer)   [(None, 128, 128, 3)]     0         \n",
      "                                                                 \n",
      " conv2d (Conv2D)             (None, 128, 128, 32)      896       \n",
      "                                                                 \n",
      " batch_normalization (BatchN  (None, 128, 128, 32)     128       \n",
      " ormalization)                                                   \n",
      "                                                                 \n",
      " conv2d_1 (Conv2D)           (None, 128, 128, 32)      9248      \n",
      "                                                                 \n",
      " batch_normalization_1 (Batc  (None, 128, 128, 32)     128       \n",
      " hNormalization)                                                 \n",
      "                                                                 \n",
      " max_pooling2d (MaxPooling2D  (None, 64, 64, 32)       0         \n",
      " )                                                               \n",
      "                                                                 \n",
      " conv2d_2 (Conv2D)           (None, 64, 64, 64)        18496     \n",
      "                                                                 \n",
      " batch_normalization_2 (Batc  (None, 64, 64, 64)       256       \n",
      " hNormalization)                                                 \n",
      "                                                                 \n",
      " conv2d_3 (Conv2D)           (None, 64, 64, 64)        36928     \n",
      "                                                                 \n",
      " batch_normalization_3 (Batc  (None, 64, 64, 64)       256       \n",
      " hNormalization)                                                 \n",
      "                                                                 \n",
      " max_pooling2d_1 (MaxPooling  (None, 32, 32, 64)       0         \n",
      " 2D)                                                             \n",
      "                                                                 \n",
      " flatten (Flatten)           (None, 65536)             0         \n",
      "                                                                 \n",
      " dense (Dense)               (None, 128)               8388736   \n",
      "                                                                 \n",
      " dense_1 (Dense)             (None, 4)                 516       \n",
      "                                                                 \n",
      "=================================================================\n",
      "Total params: 8,455,588\n",
      "Trainable params: 8,455,204\n",
      "Non-trainable params: 384\n",
      "_________________________________________________________________\n",
      "None\n"
     ]
    }
   ],
   "source": [
    "# Make a new model combining both feature extractor and x\n",
    "cnn_model = Model(inputs=feature_extractor.input, outputs=prediction_layer)\n",
    "cnn_model.compile(optimizer='rmsprop',loss = 'categorical_crossentropy', metrics = ['accuracy'])\n",
    "print(cnn_model.summary())"
   ]
  },
  {
   "cell_type": "code",
   "execution_count": null,
   "metadata": {
    "pycharm": {
     "name": "#%%\n"
    },
    "colab": {
     "base_uri": "https://localhost:8080/",
     "height": 35
    },
    "id": "CkXmt0FT5omk",
    "outputId": "28f46af8-61cf-47a6-d7c1-44a143407b54"
   },
   "outputs": [
    {
     "output_type": "execute_result",
     "data": {
      "text/plain": [
       "'2.11.0'"
      ],
      "application/vnd.google.colaboratory.intrinsic+json": {
       "type": "string"
      }
     },
     "metadata": {},
     "execution_count": 25
    }
   ],
   "source": [
    "from __future__ import absolute_import, division, print_function\n",
    "import tensorflow as tf\n",
    "from tensorflow import keras\n",
    "tf.__version__"
   ]
  },
  {
   "cell_type": "code",
   "execution_count": null,
   "metadata": {
    "pycharm": {
     "name": "#%%\n"
    },
    "id": "YLscoKLp5omk"
   },
   "outputs": [],
   "source": [
    "#Train the CNN model\n",
    "## checkpointing\n",
    "checkpoint_path = \"models_saved/cp.ckpt\"\n",
    "checkpoint_dir = os.path.dirname(checkpoint_path)\n",
    "# Checkpoint callback\n",
    "cp_callback = tf.keras.callbacks.ModelCheckpoint(checkpoint_path, save_weights_only=True, verbose=1)"
   ]
  },
  {
   "cell_type": "code",
   "execution_count": null,
   "metadata": {
    "pycharm": {
     "name": "#%%\n"
    },
    "colab": {
     "base_uri": "https://localhost:8080/"
    },
    "collapsed": true,
    "id": "XMMJW1ZJ5oml",
    "outputId": "8a571840-93dd-4c1a-b855-3509c4046e62"
   },
   "outputs": [
    {
     "output_type": "stream",
     "name": "stdout",
     "text": [
      "Epoch 1/40\n",
      "143/143 [==============================] - ETA: 0s - loss: 3.3984 - accuracy: 0.7573\n",
      "Epoch 1: saving model to models_saved/cp.ckpt\n",
      "143/143 [==============================] - 20s 58ms/step - loss: 3.3984 - accuracy: 0.7573 - val_loss: 6.0011 - val_accuracy: 0.4414\n",
      "Epoch 2/40\n",
      "142/143 [============================>.] - ETA: 0s - loss: 0.5593 - accuracy: 0.8242\n",
      "Epoch 2: saving model to models_saved/cp.ckpt\n",
      "143/143 [==============================] - 7s 46ms/step - loss: 0.5603 - accuracy: 0.8238 - val_loss: 7.5155 - val_accuracy: 0.4491\n",
      "Epoch 3/40\n",
      "143/143 [==============================] - ETA: 0s - loss: 0.4460 - accuracy: 0.8488\n",
      "Epoch 3: saving model to models_saved/cp.ckpt\n",
      "143/143 [==============================] - 6s 44ms/step - loss: 0.4460 - accuracy: 0.8488 - val_loss: 1.7990 - val_accuracy: 0.5355\n",
      "Epoch 4/40\n",
      "143/143 [==============================] - ETA: 0s - loss: 0.3888 - accuracy: 0.8649\n",
      "Epoch 4: saving model to models_saved/cp.ckpt\n",
      "143/143 [==============================] - 7s 46ms/step - loss: 0.3888 - accuracy: 0.8649 - val_loss: 0.5470 - val_accuracy: 0.7793\n",
      "Epoch 5/40\n",
      "143/143 [==============================] - ETA: 0s - loss: 0.2990 - accuracy: 0.8870\n",
      "Epoch 5: saving model to models_saved/cp.ckpt\n",
      "143/143 [==============================] - 6s 45ms/step - loss: 0.2990 - accuracy: 0.8870 - val_loss: 0.4060 - val_accuracy: 0.8765\n",
      "Epoch 6/40\n",
      "142/143 [============================>.] - ETA: 0s - loss: 0.2684 - accuracy: 0.9076\n",
      "Epoch 6: saving model to models_saved/cp.ckpt\n",
      "143/143 [==============================] - 6s 45ms/step - loss: 0.2690 - accuracy: 0.9072 - val_loss: 0.8163 - val_accuracy: 0.8071\n",
      "Epoch 7/40\n",
      "143/143 [==============================] - ETA: 0s - loss: 0.2705 - accuracy: 0.9164\n",
      "Epoch 7: saving model to models_saved/cp.ckpt\n",
      "143/143 [==============================] - 6s 44ms/step - loss: 0.2705 - accuracy: 0.9164 - val_loss: 1.0007 - val_accuracy: 0.7222\n",
      "Epoch 8/40\n",
      "143/143 [==============================] - ETA: 0s - loss: 0.2450 - accuracy: 0.9193\n",
      "Epoch 8: saving model to models_saved/cp.ckpt\n",
      "143/143 [==============================] - 6s 44ms/step - loss: 0.2450 - accuracy: 0.9193 - val_loss: 5.0586 - val_accuracy: 0.7269\n",
      "Epoch 9/40\n",
      "142/143 [============================>.] - ETA: 0s - loss: 0.2065 - accuracy: 0.9276\n",
      "Epoch 9: saving model to models_saved/cp.ckpt\n",
      "143/143 [==============================] - 6s 45ms/step - loss: 0.2062 - accuracy: 0.9276 - val_loss: 1.4455 - val_accuracy: 0.7485\n",
      "Epoch 10/40\n",
      "143/143 [==============================] - ETA: 0s - loss: 0.1854 - accuracy: 0.9342\n",
      "Epoch 10: saving model to models_saved/cp.ckpt\n",
      "143/143 [==============================] - 6s 44ms/step - loss: 0.1854 - accuracy: 0.9342 - val_loss: 9.9862 - val_accuracy: 0.6142\n",
      "Epoch 11/40\n",
      "143/143 [==============================] - ETA: 0s - loss: 0.1697 - accuracy: 0.9408\n",
      "Epoch 11: saving model to models_saved/cp.ckpt\n",
      "143/143 [==============================] - 6s 45ms/step - loss: 0.1697 - accuracy: 0.9408 - val_loss: 1.1502 - val_accuracy: 0.8488\n",
      "Epoch 12/40\n",
      "143/143 [==============================] - ETA: 0s - loss: 0.1388 - accuracy: 0.9544\n",
      "Epoch 12: saving model to models_saved/cp.ckpt\n",
      "143/143 [==============================] - 6s 45ms/step - loss: 0.1388 - accuracy: 0.9544 - val_loss: 73.2892 - val_accuracy: 0.2855\n",
      "Epoch 13/40\n",
      "143/143 [==============================] - ETA: 0s - loss: 0.1363 - accuracy: 0.9535\n",
      "Epoch 13: saving model to models_saved/cp.ckpt\n",
      "143/143 [==============================] - 7s 47ms/step - loss: 0.1363 - accuracy: 0.9535 - val_loss: 103.8885 - val_accuracy: 0.3225\n",
      "Epoch 14/40\n",
      "142/143 [============================>.] - ETA: 0s - loss: 0.1561 - accuracy: 0.9569\n",
      "Epoch 14: saving model to models_saved/cp.ckpt\n",
      "143/143 [==============================] - 6s 45ms/step - loss: 0.1565 - accuracy: 0.9568 - val_loss: 0.5425 - val_accuracy: 0.8657\n",
      "Epoch 15/40\n",
      "143/143 [==============================] - ETA: 0s - loss: 0.0932 - accuracy: 0.9669\n",
      "Epoch 15: saving model to models_saved/cp.ckpt\n",
      "143/143 [==============================] - 6s 44ms/step - loss: 0.0932 - accuracy: 0.9669 - val_loss: 0.1676 - val_accuracy: 0.9676\n",
      "Epoch 16/40\n",
      "142/143 [============================>.] - ETA: 0s - loss: 0.1007 - accuracy: 0.9694\n",
      "Epoch 16: saving model to models_saved/cp.ckpt\n",
      "143/143 [==============================] - 6s 44ms/step - loss: 0.1005 - accuracy: 0.9695 - val_loss: 0.9240 - val_accuracy: 0.8549\n",
      "Epoch 17/40\n",
      "143/143 [==============================] - ETA: 0s - loss: 0.0700 - accuracy: 0.9798\n",
      "Epoch 17: saving model to models_saved/cp.ckpt\n",
      "143/143 [==============================] - 6s 45ms/step - loss: 0.0700 - accuracy: 0.9798 - val_loss: 0.1136 - val_accuracy: 0.9568\n",
      "Epoch 18/40\n",
      "143/143 [==============================] - ETA: 0s - loss: 0.0777 - accuracy: 0.9754\n",
      "Epoch 18: saving model to models_saved/cp.ckpt\n",
      "143/143 [==============================] - 6s 44ms/step - loss: 0.0777 - accuracy: 0.9754 - val_loss: 10.5934 - val_accuracy: 0.5694\n",
      "Epoch 19/40\n",
      "143/143 [==============================] - ETA: 0s - loss: 0.0699 - accuracy: 0.9807\n",
      "Epoch 19: saving model to models_saved/cp.ckpt\n",
      "143/143 [==============================] - 6s 44ms/step - loss: 0.0699 - accuracy: 0.9807 - val_loss: 0.5638 - val_accuracy: 0.8642\n",
      "Epoch 20/40\n",
      "143/143 [==============================] - ETA: 0s - loss: 0.0737 - accuracy: 0.9776\n",
      "Epoch 20: saving model to models_saved/cp.ckpt\n",
      "143/143 [==============================] - 6s 45ms/step - loss: 0.0737 - accuracy: 0.9776 - val_loss: 0.0712 - val_accuracy: 0.9753\n",
      "Epoch 21/40\n",
      "143/143 [==============================] - ETA: 0s - loss: 0.0522 - accuracy: 0.9853\n",
      "Epoch 21: saving model to models_saved/cp.ckpt\n",
      "143/143 [==============================] - 7s 46ms/step - loss: 0.0522 - accuracy: 0.9853 - val_loss: 0.3071 - val_accuracy: 0.9552\n",
      "Epoch 22/40\n",
      "143/143 [==============================] - ETA: 0s - loss: 0.0423 - accuracy: 0.9864\n",
      "Epoch 22: saving model to models_saved/cp.ckpt\n",
      "143/143 [==============================] - 7s 46ms/step - loss: 0.0423 - accuracy: 0.9864 - val_loss: 5.7032 - val_accuracy: 0.7917\n",
      "Epoch 23/40\n",
      "143/143 [==============================] - ETA: 0s - loss: 0.0570 - accuracy: 0.9849\n",
      "Epoch 23: saving model to models_saved/cp.ckpt\n",
      "143/143 [==============================] - 6s 45ms/step - loss: 0.0570 - accuracy: 0.9849 - val_loss: 6.5911 - val_accuracy: 0.6559\n",
      "Epoch 24/40\n",
      "143/143 [==============================] - ETA: 0s - loss: 0.0768 - accuracy: 0.9833\n",
      "Epoch 24: saving model to models_saved/cp.ckpt\n",
      "143/143 [==============================] - 6s 45ms/step - loss: 0.0768 - accuracy: 0.9833 - val_loss: 1.1721 - val_accuracy: 0.8179\n",
      "Epoch 25/40\n",
      "143/143 [==============================] - ETA: 0s - loss: 0.0493 - accuracy: 0.9871\n",
      "Epoch 25: saving model to models_saved/cp.ckpt\n",
      "143/143 [==============================] - 6s 45ms/step - loss: 0.0493 - accuracy: 0.9871 - val_loss: 0.4726 - val_accuracy: 0.9182\n",
      "Epoch 26/40\n",
      "143/143 [==============================] - ETA: 0s - loss: 0.0408 - accuracy: 0.9910\n",
      "Epoch 26: saving model to models_saved/cp.ckpt\n",
      "143/143 [==============================] - 6s 44ms/step - loss: 0.0408 - accuracy: 0.9910 - val_loss: 0.4192 - val_accuracy: 0.9537\n",
      "Epoch 27/40\n",
      "143/143 [==============================] - ETA: 0s - loss: 0.0479 - accuracy: 0.9901\n",
      "Epoch 27: saving model to models_saved/cp.ckpt\n",
      "143/143 [==============================] - 6s 45ms/step - loss: 0.0479 - accuracy: 0.9901 - val_loss: 2.0699 - val_accuracy: 0.9120\n",
      "Epoch 28/40\n",
      "142/143 [============================>.] - ETA: 0s - loss: 0.0336 - accuracy: 0.9919\n",
      "Epoch 28: saving model to models_saved/cp.ckpt\n",
      "143/143 [==============================] - 7s 46ms/step - loss: 0.0335 - accuracy: 0.9919 - val_loss: 0.5292 - val_accuracy: 0.8966\n",
      "Epoch 29/40\n",
      "143/143 [==============================] - ETA: 0s - loss: 0.0255 - accuracy: 0.9932\n",
      "Epoch 29: saving model to models_saved/cp.ckpt\n",
      "143/143 [==============================] - 6s 44ms/step - loss: 0.0255 - accuracy: 0.9932 - val_loss: 0.1282 - val_accuracy: 0.9537\n",
      "Epoch 30/40\n",
      "143/143 [==============================] - ETA: 0s - loss: 0.0208 - accuracy: 0.9945\n",
      "Epoch 30: saving model to models_saved/cp.ckpt\n",
      "143/143 [==============================] - 6s 45ms/step - loss: 0.0208 - accuracy: 0.9945 - val_loss: 8.3513 - val_accuracy: 0.6559\n",
      "Epoch 31/40\n",
      "143/143 [==============================] - ETA: 0s - loss: 0.0358 - accuracy: 0.9901\n",
      "Epoch 31: saving model to models_saved/cp.ckpt\n",
      "143/143 [==============================] - 7s 47ms/step - loss: 0.0358 - accuracy: 0.9901 - val_loss: 0.8753 - val_accuracy: 0.8580\n",
      "Epoch 32/40\n",
      "143/143 [==============================] - ETA: 0s - loss: 0.0361 - accuracy: 0.9945\n",
      "Epoch 32: saving model to models_saved/cp.ckpt\n",
      "143/143 [==============================] - 6s 44ms/step - loss: 0.0361 - accuracy: 0.9945 - val_loss: 3.0388 - val_accuracy: 0.8025\n",
      "Epoch 33/40\n",
      "143/143 [==============================] - ETA: 0s - loss: 0.0308 - accuracy: 0.9943\n",
      "Epoch 33: saving model to models_saved/cp.ckpt\n",
      "143/143 [==============================] - 7s 46ms/step - loss: 0.0308 - accuracy: 0.9943 - val_loss: 11.7534 - val_accuracy: 0.6543\n",
      "Epoch 34/40\n",
      "143/143 [==============================] - ETA: 0s - loss: 0.0276 - accuracy: 0.9932\n",
      "Epoch 34: saving model to models_saved/cp.ckpt\n",
      "143/143 [==============================] - 6s 45ms/step - loss: 0.0276 - accuracy: 0.9932 - val_loss: 0.1267 - val_accuracy: 0.9722\n",
      "Epoch 35/40\n",
      "143/143 [==============================] - ETA: 0s - loss: 0.0283 - accuracy: 0.9919\n",
      "Epoch 35: saving model to models_saved/cp.ckpt\n",
      "143/143 [==============================] - 6s 45ms/step - loss: 0.0283 - accuracy: 0.9919 - val_loss: 0.2375 - val_accuracy: 0.9182\n",
      "Epoch 36/40\n",
      "142/143 [============================>.] - ETA: 0s - loss: 0.0316 - accuracy: 0.9919\n",
      "Epoch 36: saving model to models_saved/cp.ckpt\n",
      "143/143 [==============================] - 7s 46ms/step - loss: 0.0315 - accuracy: 0.9919 - val_loss: 0.2001 - val_accuracy: 0.9537\n",
      "Epoch 37/40\n",
      "143/143 [==============================] - ETA: 0s - loss: 0.0483 - accuracy: 0.9908\n",
      "Epoch 37: saving model to models_saved/cp.ckpt\n",
      "143/143 [==============================] - 6s 45ms/step - loss: 0.0483 - accuracy: 0.9908 - val_loss: 0.1789 - val_accuracy: 0.9630\n",
      "Epoch 38/40\n",
      "143/143 [==============================] - ETA: 0s - loss: 0.0208 - accuracy: 0.9936\n",
      "Epoch 38: saving model to models_saved/cp.ckpt\n",
      "143/143 [==============================] - 7s 46ms/step - loss: 0.0208 - accuracy: 0.9936 - val_loss: 15.2999 - val_accuracy: 0.6636\n",
      "Epoch 39/40\n",
      "143/143 [==============================] - ETA: 0s - loss: 0.0152 - accuracy: 0.9965\n",
      "Epoch 39: saving model to models_saved/cp.ckpt\n",
      "143/143 [==============================] - 6s 45ms/step - loss: 0.0152 - accuracy: 0.9965 - val_loss: 0.0114 - val_accuracy: 0.9954\n",
      "Epoch 40/40\n",
      "143/143 [==============================] - ETA: 0s - loss: 0.0213 - accuracy: 0.9958\n",
      "Epoch 40: saving model to models_saved/cp.ckpt\n",
      "143/143 [==============================] - 6s 45ms/step - loss: 0.0213 - accuracy: 0.9958 - val_loss: 0.0297 - val_accuracy: 0.9969\n"
     ]
    }
   ],
   "source": [
    "history = cnn_model.fit(x_train, y_train_one_hot, epochs=40, validation_data = (x_validation, y_validation_one_hot),callbacks=[cp_callback])"
   ]
  },
  {
   "cell_type": "code",
   "execution_count": null,
   "metadata": {
    "pycharm": {
     "name": "#%%\n"
    },
    "id": "lH7OKTRs5oml"
   },
   "outputs": [],
   "source": [
    "#Saving entire model\n",
    "cnn_model.save('models_saved/GPU_model2.h5')"
   ]
  },
  {
   "cell_type": "code",
   "execution_count": null,
   "metadata": {
    "pycharm": {
     "name": "#%%\n"
    },
    "id": "pezCcWdI5oml"
   },
   "outputs": [],
   "source": [
    "from keras.models import load_model\n",
    "new_model = load_model('models_saved/GPU_model2.h5')"
   ]
  },
  {
   "cell_type": "code",
   "execution_count": null,
   "metadata": {
    "pycharm": {
     "name": "#%%\n"
    },
    "id": "NzyZ4XRf5omo",
    "colab": {
     "base_uri": "https://localhost:8080/",
     "height": 295
    },
    "outputId": "3400a026-9557-44ea-80f7-e60cb30c21f8"
   },
   "outputs": [
    {
     "output_type": "display_data",
     "data": {
      "text/plain": [
       "<Figure size 432x288 with 1 Axes>"
      ],
      "image/png": "[encoded data removed]"
     },
     "metadata": {
      "needs_background": "light"
     }
    }
   ],
   "source": [
    "#plot the training and validation accuracy and loss at each epoch\n",
    "loss = history.history['loss']\n",
    "val_loss = history.history['val_loss']\n",
    "epochs = range(1, len(loss) + 1)\n",
    "plt.plot(epochs, loss, 'y', label='Training loss')\n",
    "plt.plot(epochs, val_loss, 'r', label='Validation loss')\n",
    "plt.title('Training and validation loss')\n",
    "plt.xlabel('Epochs')\n",
    "plt.ylabel('Loss')\n",
    "plt.legend()\n",
    "plt.show()"
   ]
  },
  {
   "cell_type": "code",
   "execution_count": null,
   "metadata": {
    "pycharm": {
     "name": "#%%\n"
    },
    "id": "IvklyXzh5omo",
    "colab": {
     "base_uri": "https://localhost:8080/",
     "height": 295
    },
    "outputId": "030dda04-9cf4-402f-fbb9-ec50810bec01"
   },
   "outputs": [
    {
     "output_type": "display_data",
     "data": {
      "text/plain": [
       "<Figure size 432x288 with 1 Axes>"
      ],
      "image/png": "[encoded data removed]"
     },
     "metadata": {
      "needs_background": "light"
     }
    }
   ],
   "source": [
    "accuracy = history.history['accuracy']\n",
    "val_accuracy = history.history['val_accuracy']\n",
    "plt.plot(epochs, accuracy, 'y', label='Training acc')\n",
    "plt.plot(epochs, val_accuracy, 'r', label='Validation acc')\n",
    "plt.title('Training and validation accuracy')\n",
    "plt.xlabel('Epochs')\n",
    "plt.ylabel('Accuracy')\n",
    "plt.legend()\n",
    "plt.show()"
   ]
  },
  {
   "cell_type": "code",
   "execution_count": null,
   "metadata": {
    "pycharm": {
     "name": "#%%\n"
    },
    "id": "BNYy2yUB5omp",
    "colab": {
     "base_uri": "https://localhost:8080/"
    },
    "outputId": "63b62b39-36eb-4fd4-c842-dd816cdfa5d6"
   },
   "outputs": [
    {
     "output_type": "stream",
     "name": "stdout",
     "text": [
      "21/21 [==============================] - 0s 14ms/step\n"
     ]
    }
   ],
   "source": [
    "prediction_NN = cnn_model.predict(x_validation)\n",
    "prediction_NN = np.argmax(prediction_NN, axis=-1)\n",
    "prediction_NN = le.inverse_transform(prediction_NN)"
   ]
  },
  {
   "cell_type": "code",
   "execution_count": null,
   "metadata": {
    "pycharm": {
     "name": "#%%\n"
    },
    "id": "jvd0M0In5omp",
    "colab": {
     "base_uri": "https://localhost:8080/",
     "height": 421
    },
    "outputId": "a1ac080b-9ca5-4172-e612-d4a12dac72fd"
   },
   "outputs": [
    {
     "output_type": "stream",
     "name": "stdout",
     "text": [
      "[[  0   0   0   0   0   0   0   0]\n",
      " [  0   0   0   0   0   0   0   0]\n",
      " [  0   0   0   0   0   0   0   0]\n",
      " [  0   0   0   0   0   0   0   0]\n",
      " [144   0   0   0   0   0   0   0]\n",
      " [  0 169   1   0   0   0   0   0]\n",
      " [  1   0 190   0   0   0   0   0]\n",
      " [  0   0   0 143   0   0   0   0]]\n"
     ]
    },
    {
     "output_type": "execute_result",
     "data": {
      "text/plain": [
       "<matplotlib.axes._subplots.AxesSubplot at 0x7f1150b31700>"
      ]
     },
     "metadata": {},
     "execution_count": 33
    },
    {
     "output_type": "display_data",
     "data": {
      "text/plain": [
       "<Figure size 432x288 with 2 Axes>"
      ],
      "image/png": "[encoded data removed]"
     },
     "metadata": {
      "needs_background": "light"
     }
    }
   ],
   "source": [
    "#Confusion Matrix - verify accuracy of each class\n",
    "from sklearn.metrics import confusion_matrix\n",
    "cm = confusion_matrix(validation_labels, prediction_NN)\n",
    "print(cm)\n",
    "sns.heatmap(cm, annot=True)"
   ]
  },
  {
   "cell_type": "code",
   "execution_count": null,
   "metadata": {
    "pycharm": {
     "name": "#%%\n"
    },
    "id": "flQwhCsM5omp",
    "colab": {
     "base_uri": "https://localhost:8080/",
     "height": 320
    },
    "outputId": "665a5c62-66c4-41e3-cb30-615ef0ad7f96"
   },
   "outputs": [
    {
     "output_type": "stream",
     "name": "stdout",
     "text": [
      "1/1 [==============================] - 0s 20ms/step\n",
      "The prediction for this image is:  ['pictures/trainData/ripe']\n",
      "The actual label for this image is:  pictures/test/ripe\n"
     ]
    },
    {
     "output_type": "display_data",
     "data": {
      "text/plain": [
       "<Figure size 432x288 with 1 Axes>"
      ],
      "image/png": "[encoded data removed]"
     },
     "metadata": {
      "needs_background": "light"
     }
    }
   ],
   "source": [
    "n=150  #Select the index of image to be loaded for testing\n",
    "img = x_test[n]\n",
    "plt.imshow(img)\n",
    "input_img = np.expand_dims(img, axis=0) #Expand dims so the input is (num images, x, y, c)\n",
    "prediction = np.argmax(cnn_model.predict(input_img))  #argmax to convert categorical back to original\n",
    "prediction = le.inverse_transform([prediction])  #Reverse the label encoder to original name\n",
    "print(\"The prediction for this image is: \", prediction)\n",
    "print(\"The actual label for this image is: \", test_labels[n])\n"
   ]
  },
  {
   "cell_type": "code",
   "source": [
    "!pip install tf-nightly scipy"
   ],
   "metadata": {
    "id": "guyfRh3dVEwl",
    "colab": {
     "base_uri": "https://localhost:8080/",
     "height": 1000
    },
    "outputId": "a159c2c1-75f1-4cb8-9b12-c8f64e7192cd"
   },
   "execution_count": null,
   "outputs": [
    {
     "output_type": "stream",
     "name": "stdout",
     "text": [
      "Looking in indexes: https://pypi.org/simple, https://us-python.pkg.dev/colab-wheels/public/simple/\n",
      "Collecting tf-nightly\n",
      "  Downloading tf_nightly-2.12.0.dev20221204-cp38-cp38-manylinux_2_17_x86_64.manylinux2014_x86_64.whl (553.8 MB)\n",
      "\u001B[2K     \u001B[90m━━━━━━━━━━━━━━━━━━━━━━━━━━━━━━━━━━━━━━━\u001B[0m \u001B[32m553.8/553.8 MB\u001B[0m \u001B[31m2.4 MB/s\u001B[0m eta \u001B[36m0:00:00\u001B[0m\n",
      "\u001B[?25hRequirement already satisfied: scipy in /usr/local/lib/python3.8/dist-packages (1.7.3)\n",
      "Requirement already satisfied: flatbuffers>=2.0 in /usr/local/lib/python3.8/dist-packages (from tf-nightly) (22.11.23)\n",
      "Requirement already satisfied: numpy>=1.20 in /usr/local/lib/python3.8/dist-packages (from tf-nightly) (1.21.6)\n",
      "Requirement already satisfied: typing-extensions>=3.6.6 in /usr/local/lib/python3.8/dist-packages (from tf-nightly) (4.1.1)\n",
      "Requirement already satisfied: absl-py>=1.0.0 in /usr/local/lib/python3.8/dist-packages (from tf-nightly) (1.3.0)\n",
      "Requirement already satisfied: h5py>=2.9.0 in /usr/local/lib/python3.8/dist-packages (from tf-nightly) (3.1.0)\n",
      "Requirement already satisfied: gast<=0.4.0,>=0.2.1 in /usr/local/lib/python3.8/dist-packages (from tf-nightly) (0.4.0)\n",
      "Collecting tb-nightly~=2.12.0.a\n",
      "  Downloading tb_nightly-2.12.0a20221204-py3-none-any.whl (5.7 MB)\n",
      "\u001B[2K     \u001B[90m━━━━━━━━━━━━━━━━━━━━━━━━━━━━━━━━━━━━━━━━\u001B[0m \u001B[32m5.7/5.7 MB\u001B[0m \u001B[31m69.3 MB/s\u001B[0m eta \u001B[36m0:00:00\u001B[0m\n",
      "\u001B[?25hCollecting tf-estimator-nightly~=2.12.0.dev\n",
      "  Downloading tf_estimator_nightly-2.12.0.dev2022120409-py2.py3-none-any.whl (439 kB)\n",
      "\u001B[2K     \u001B[90m━━━━━━━━━━━━━━━━━━━━━━━━━━━━━━━━━━━━━━\u001B[0m \u001B[32m439.4/439.4 kB\u001B[0m \u001B[31m33.9 MB/s\u001B[0m eta \u001B[36m0:00:00\u001B[0m\n",
      "\u001B[?25hRequirement already satisfied: termcolor>=1.1.0 in /usr/local/lib/python3.8/dist-packages (from tf-nightly) (2.1.1)\n",
      "Requirement already satisfied: setuptools in /usr/local/lib/python3.8/dist-packages (from tf-nightly) (57.4.0)\n",
      "Requirement already satisfied: protobuf<3.20,>=3.9.2 in /usr/local/lib/python3.8/dist-packages (from tf-nightly) (3.19.6)\n",
      "Requirement already satisfied: six>=1.12.0 in /usr/local/lib/python3.8/dist-packages (from tf-nightly) (1.15.0)\n",
      "Requirement already satisfied: tensorflow-io-gcs-filesystem>=0.23.1 in /usr/local/lib/python3.8/dist-packages (from tf-nightly) (0.28.0)\n",
      "Requirement already satisfied: packaging in /usr/local/lib/python3.8/dist-packages (from tf-nightly) (21.3)\n",
      "Requirement already satisfied: grpcio<2.0,>=1.24.3 in /usr/local/lib/python3.8/dist-packages (from tf-nightly) (1.50.0)\n",
      "Requirement already satisfied: wrapt>=1.11.0 in /usr/local/lib/python3.8/dist-packages (from tf-nightly) (1.14.1)\n",
      "Requirement already satisfied: google-pasta>=0.1.1 in /usr/local/lib/python3.8/dist-packages (from tf-nightly) (0.2.0)\n",
      "Requirement already satisfied: libclang>=13.0.0 in /usr/local/lib/python3.8/dist-packages (from tf-nightly) (14.0.6)\n",
      "Requirement already satisfied: jax>=0.3.15 in /usr/local/lib/python3.8/dist-packages (from tf-nightly) (0.3.25)\n",
      "Requirement already satisfied: opt-einsum>=2.3.2 in /usr/local/lib/python3.8/dist-packages (from tf-nightly) (3.3.0)\n",
      "Requirement already satisfied: astunparse>=1.6.0 in /usr/local/lib/python3.8/dist-packages (from tf-nightly) (1.6.3)\n",
      "Collecting keras-nightly~=2.12.0.dev\n",
      "  Downloading keras_nightly-2.12.0.dev2022120408-py2.py3-none-any.whl (1.7 MB)\n",
      "\u001B[2K     \u001B[90m━━━━━━━━━━━━━━━━━━━━━━━━━━━━━━━━━━━━━━━━\u001B[0m \u001B[32m1.7/1.7 MB\u001B[0m \u001B[31m56.5 MB/s\u001B[0m eta \u001B[36m0:00:00\u001B[0m\n",
      "\u001B[?25hRequirement already satisfied: wheel<1.0,>=0.23.0 in /usr/local/lib/python3.8/dist-packages (from astunparse>=1.6.0->tf-nightly) (0.38.4)\n",
      "Requirement already satisfied: requests<3,>=2.21.0 in /usr/local/lib/python3.8/dist-packages (from tb-nightly~=2.12.0.a->tf-nightly) (2.23.0)\n",
      "Requirement already satisfied: markdown>=2.6.8 in /usr/local/lib/python3.8/dist-packages (from tb-nightly~=2.12.0.a->tf-nightly) (3.4.1)\n",
      "Requirement already satisfied: tensorboard-data-server<0.7.0,>=0.6.0 in /usr/local/lib/python3.8/dist-packages (from tb-nightly~=2.12.0.a->tf-nightly) (0.6.1)\n",
      "Requirement already satisfied: tensorboard-plugin-wit>=1.6.0 in /usr/local/lib/python3.8/dist-packages (from tb-nightly~=2.12.0.a->tf-nightly) (1.8.1)\n",
      "Requirement already satisfied: werkzeug>=1.0.1 in /usr/local/lib/python3.8/dist-packages (from tb-nightly~=2.12.0.a->tf-nightly) (1.0.1)\n",
      "Requirement already satisfied: google-auth<3,>=1.6.3 in /usr/local/lib/python3.8/dist-packages (from tb-nightly~=2.12.0.a->tf-nightly) (2.14.1)\n",
      "Requirement already satisfied: google-auth-oauthlib<0.5,>=0.4.1 in /usr/local/lib/python3.8/dist-packages (from tb-nightly~=2.12.0.a->tf-nightly) (0.4.6)\n",
      "Requirement already satisfied: pyparsing!=3.0.5,>=2.0.2 in /usr/local/lib/python3.8/dist-packages (from packaging->tf-nightly) (3.0.9)\n",
      "Requirement already satisfied: rsa<5,>=3.1.4 in /usr/local/lib/python3.8/dist-packages (from google-auth<3,>=1.6.3->tb-nightly~=2.12.0.a->tf-nightly) (4.9)\n",
      "Requirement already satisfied: cachetools<6.0,>=2.0.0 in /usr/local/lib/python3.8/dist-packages (from google-auth<3,>=1.6.3->tb-nightly~=2.12.0.a->tf-nightly) (5.2.0)\n",
      "Requirement already satisfied: pyasn1-modules>=0.2.1 in /usr/local/lib/python3.8/dist-packages (from google-auth<3,>=1.6.3->tb-nightly~=2.12.0.a->tf-nightly) (0.2.8)\n",
      "Requirement already satisfied: requests-oauthlib>=0.7.0 in /usr/local/lib/python3.8/dist-packages (from google-auth-oauthlib<0.5,>=0.4.1->tb-nightly~=2.12.0.a->tf-nightly) (1.3.1)\n",
      "Requirement already satisfied: importlib-metadata>=4.4 in /usr/local/lib/python3.8/dist-packages (from markdown>=2.6.8->tb-nightly~=2.12.0.a->tf-nightly) (4.13.0)\n",
      "Requirement already satisfied: certifi>=2017.4.17 in /usr/local/lib/python3.8/dist-packages (from requests<3,>=2.21.0->tb-nightly~=2.12.0.a->tf-nightly) (2022.9.24)\n",
      "Requirement already satisfied: idna<3,>=2.5 in /usr/local/lib/python3.8/dist-packages (from requests<3,>=2.21.0->tb-nightly~=2.12.0.a->tf-nightly) (2.10)\n",
      "Requirement already satisfied: urllib3!=1.25.0,!=1.25.1,<1.26,>=1.21.1 in /usr/local/lib/python3.8/dist-packages (from requests<3,>=2.21.0->tb-nightly~=2.12.0.a->tf-nightly) (1.24.3)\n",
      "Requirement already satisfied: chardet<4,>=3.0.2 in /usr/local/lib/python3.8/dist-packages (from requests<3,>=2.21.0->tb-nightly~=2.12.0.a->tf-nightly) (3.0.4)\n",
      "Requirement already satisfied: zipp>=0.5 in /usr/local/lib/python3.8/dist-packages (from importlib-metadata>=4.4->markdown>=2.6.8->tb-nightly~=2.12.0.a->tf-nightly) (3.10.0)\n",
      "Requirement already satisfied: pyasn1<0.5.0,>=0.4.6 in /usr/local/lib/python3.8/dist-packages (from pyasn1-modules>=0.2.1->google-auth<3,>=1.6.3->tb-nightly~=2.12.0.a->tf-nightly) (0.4.8)\n",
      "Requirement already satisfied: oauthlib>=3.0.0 in /usr/local/lib/python3.8/dist-packages (from requests-oauthlib>=0.7.0->google-auth-oauthlib<0.5,>=0.4.1->tb-nightly~=2.12.0.a->tf-nightly) (3.2.2)\n",
      "Installing collected packages: tf-estimator-nightly, keras-nightly, tb-nightly, tf-nightly\n",
      "Successfully installed keras-nightly-2.12.0.dev2022120408 tb-nightly-2.12.0a20221204 tf-estimator-nightly-2.12.0.dev2022120409 tf-nightly-2.12.0.dev20221204\n",
      "\u001B[33mWARNING: Running pip as the 'root' user can result in broken permissions and conflicting behaviour with the system package manager. It is recommended to use a virtual environment instead: https://pip.pypa.io/warnings/venv\u001B[0m\u001B[33m\n",
      "\u001B[0m"
     ]
    },
    {
     "output_type": "display_data",
     "data": {
      "application/vnd.colab-display-data+json": {
       "pip_warning": {
        "packages": [
         "keras",
         "tensorboard",
         "tensorflow"
        ]
       }
      }
     },
     "metadata": {}
    }
   ]
  },
  {
   "cell_type": "code",
   "execution_count": null,
   "metadata": {
    "pycharm": {
     "name": "#%%\n"
    },
    "id": "AvVd1AMI5omp"
   },
   "outputs": [],
   "source": [
    "import tensorflow as tf\n",
    "converter = tf.lite.TFLiteConverter.from_keras_model(new_model)"
   ]
  },
  {
   "cell_type": "code",
   "execution_count": null,
   "metadata": {
    "pycharm": {
     "name": "#%%\n"
    },
    "id": "z0l3PSQL5omp",
    "colab": {
     "base_uri": "https://localhost:8080/"
    },
    "outputId": "da779944-a533-4169-bf67-8762d4ad30d9"
   },
   "outputs": [
    {
     "output_type": "stream",
     "name": "stderr",
     "text": [
      "WARNING:absl:Found untraced functions such as _jit_compiled_convolution_op, _jit_compiled_convolution_op, _jit_compiled_convolution_op, _jit_compiled_convolution_op, _update_step_xla while saving (showing 5 of 5). These functions will not be directly callable after loading.\n"
     ]
    }
   ],
   "source": [
    "tflite_model = converter.convert()\n",
    "\n",
    "with open(\"model2.tflite\", 'wb') as f:\n",
    "    f.write(tflite_model)"
   ]
  },
  {
   "cell_type": "markdown",
   "source": [
    "Random Forest (Extra Work; Trying out)"
   ],
   "metadata": {
    "id": "8_orTT2nrH4X"
   }
  },
  {
   "cell_type": "code",
   "source": [
    "# Using features from convolutional network for RF\n",
    "X_for_RF = feature_extractor.predict(x_train) #This is out X input to RF"
   ],
   "metadata": {
    "id": "-p40NdAH3rf1",
    "colab": {
     "base_uri": "https://localhost:8080/"
    },
    "outputId": "0fc5cb6c-4fce-424a-f89e-750c07039fa5"
   },
   "execution_count": null,
   "outputs": [
    {
     "output_type": "stream",
     "name": "stdout",
     "text": [
      "143/143 [==============================] - 1s 8ms/step\n"
     ]
    }
   ]
  },
  {
   "cell_type": "code",
   "source": [
    "#RANDOM FOREST\n",
    "from sklearn.ensemble import RandomForestClassifier\n",
    "RF_model = RandomForestClassifier(n_estimators = 50, random_state = 0)"
   ],
   "metadata": {
    "id": "YGfldWen6qXE"
   },
   "execution_count": null,
   "outputs": []
  },
  {
   "cell_type": "code",
   "source": [
    "# Train the model on training data\n",
    "RF_model.fit(X_for_RF, y_train) #For sklearn no one hot encoding"
   ],
   "metadata": {
    "id": "w_-L_2l86uog",
    "colab": {
     "base_uri": "https://localhost:8080/"
    },
    "outputId": "821be3e8-b672-49da-d087-acaa4a9a927a"
   },
   "execution_count": null,
   "outputs": [
    {
     "output_type": "execute_result",
     "data": {
      "text/plain": [
       "RandomForestClassifier(n_estimators=50, random_state=0)"
      ]
     },
     "metadata": {},
     "execution_count": 64
    }
   ]
  },
  {
   "cell_type": "code",
   "source": [
    "#Send test data through same feature extractor process\n",
    "X_test_feature = feature_extractor.predict(x_validation)"
   ],
   "metadata": {
    "id": "Eoug2p_Q6zda",
    "colab": {
     "base_uri": "https://localhost:8080/"
    },
    "outputId": "1e282c53-f7ad-4d39-d91d-1effbdf29695"
   },
   "execution_count": null,
   "outputs": [
    {
     "output_type": "stream",
     "name": "stdout",
     "text": [
      "21/21 [==============================] - 0s 12ms/step\n"
     ]
    }
   ]
  },
  {
   "cell_type": "code",
   "source": [
    "#Now predict using the trained RF model. \n",
    "prediction_RF = RF_model.predict(X_test_feature)"
   ],
   "metadata": {
    "id": "B1IpoiiH67IH"
   },
   "execution_count": null,
   "outputs": []
  },
  {
   "cell_type": "code",
   "source": [
    "#Inverse le transform to get original label back. \n",
    "prediction_RF = le.inverse_transform(prediction_RF)"
   ],
   "metadata": {
    "id": "sDYoLwr36_En"
   },
   "execution_count": null,
   "outputs": []
  },
  {
   "cell_type": "code",
   "source": [
    "#Print overall accuracy\n",
    "from sklearn import metrics\n",
    "print (\"Accuracy = \", metrics.accuracy_score(validation_labels, prediction_RF))"
   ],
   "metadata": {
    "id": "QaLBLDn77CB8"
   },
   "execution_count": null,
   "outputs": []
  },
  {
   "cell_type": "code",
   "source": [
    "#Confusion Matrix - verify accuracy of each class\n",
    "cm = confusion_matrix(validation_labels, prediction_RF)\n",
    "#print(cm)\n",
    "sns.heatmap(cm, annot=True)"
   ],
   "metadata": {
    "id": "E4UpKoXZ7DWk",
    "colab": {
     "base_uri": "https://localhost:8080/",
     "height": 282
    },
    "outputId": "1e9ebe09-2904-42d2-99e6-9dee684021c2"
   },
   "execution_count": null,
   "outputs": [
    {
     "output_type": "execute_result",
     "data": {
      "text/plain": [
       "<matplotlib.axes._subplots.AxesSubplot at 0x7f0f7039a970>"
      ]
     },
     "metadata": {},
     "execution_count": 72
    },
    {
     "output_type": "display_data",
     "data": {
      "text/plain": [
       "<Figure size 432x288 with 2 Axes>"
      ],
      "image/png": "[encoded data removed]"
     },
     "metadata": {
      "needs_background": "light"
     }
    }
   ]
  },
  {
   "cell_type": "code",
   "source": [
    "#Check results on a few select images\n",
    "#n=5 #dog park. RF works better than CNN\n",
    "n=9 #Select the index of image to be loaded for testing\n",
    "img = x_test[n]\n",
    "plt.imshow(img)\n",
    "input_img = np.expand_dims(img, axis=0) #Expand dims so the input is (num images, x, y, c)\n",
    "input_img_features=feature_extractor.predict(input_img)\n",
    "prediction_RF = RF_model.predict(input_img_features)[0] \n",
    "prediction_RF = le.inverse_transform([prediction_RF])  #Reverse the label encoder to original name\n",
    "print(\"The prediction for this image is: \", prediction_RF)\n",
    "print(\"The actual label for this image is: \", test_labels[n])"
   ],
   "metadata": {
    "id": "plpucUu6I41_",
    "colab": {
     "base_uri": "https://localhost:8080/",
     "height": 320
    },
    "outputId": "79b6ff92-09b7-499b-e91f-bbfdf0458ca1"
   },
   "execution_count": null,
   "outputs": [
    {
     "output_type": "stream",
     "name": "stdout",
     "text": [
      "1/1 [==============================] - 0s 43ms/step\n",
      "The prediction for this image is:  ['pictures/trainData/over_ripe']\n",
      "The actual label for this image is:  pictures/test/over_ripe\n"
     ]
    },
    {
     "output_type": "display_data",
     "data": {
      "text/plain": [
       "<Figure size 432x288 with 1 Axes>"
      ],
      "image/png": "[encoded data removed]"
     },
     "metadata": {
      "needs_background": "light"
     }
    }
   ]
  }
 ],
 "metadata": {
  "colab": {
   "provenance": []
  },
  "kernelspec": {
   "display_name": "Python 3 (ipykernel)",
   "language": "python",
   "name": "python3"
  },
  "language_info": {
   "codemirror_mode": {
    "name": "ipython",
    "version": 3
   },
   "file_extension": ".py",
   "mimetype": "text/x-python",
   "name": "python",
   "nbconvert_exporter": "python",
   "pygments_lexer": "ipython3",
   "version": "3.10.6"
  },
  "vscode": {
   "interpreter": {
    "hash": "26de051ba29f2982a8de78e945f0abaf191376122a1563185a90213a26c5da77"
   }
  },
  "accelerator": "GPU",
  "gpuClass": "standard"
 },
 "nbformat": 4,
 "nbformat_minor": 0
}