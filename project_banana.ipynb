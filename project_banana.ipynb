{
 "cells": [
  {
   "cell_type": "markdown",
   "metadata": {
    "id": "vXIGbcRI6IA0",
    "pycharm": {
     "name": "#%% md\n"
    }
   },
   "source": [
    "# **Setup and Load Data**"
   ]
  },
  {
   "cell_type": "markdown",
   "metadata": {
    "id": "GwY8d6qB6T2z",
    "pycharm": {
     "name": "#%% md\n"
    }
   },
   "source": [
    "# Install dependecies and setup\n",
    "Tensorflow for pipelining, opencv for cleaning dataset, matplotlib for visualization"
   ]
  },
  {
   "cell_type": "code",
   "execution_count": 28,
   "metadata": {
    "colab": {
     "base_uri": "https://localhost:8080/"
    },
    "id": "3HvgAT6R6jHX",
    "outputId": "f139ab7d-414d-4bc4-ead4-813d38525597",
    "pycharm": {
     "name": "#%%\n"
    }
   },
   "outputs": [
    {
     "name": "stdout",
     "output_type": "stream",
     "text": [
      "Requirement already satisfied: tensorflow in .\\venv\\lib\\site-packages (2.10.0)\n",
      "Requirement already satisfied: tensorflow-gpu in .\\venv\\lib\\site-packages (2.10.0)\n",
      "Requirement already satisfied: opencv-python in .\\venv\\lib\\site-packages (4.6.0.66)\n",
      "Requirement already satisfied: matplotlib in .\\venv\\lib\\site-packages (3.5.3)\n",
      "Requirement already satisfied: numpy>=1.20 in .\\venv\\lib\\site-packages (from tensorflow) (1.23.3)\n",
      "Requirement already satisfied: grpcio<2.0,>=1.24.3 in .\\venv\\lib\\site-packages (from tensorflow) (1.48.1)\n",
      "Requirement already satisfied: google-pasta>=0.1.1 in .\\venv\\lib\\site-packages (from tensorflow) (0.2.0)\n",
      "Requirement already satisfied: wrapt>=1.11.0 in .\\venv\\lib\\site-packages (from tensorflow) (1.14.1)\n",
      "Requirement already satisfied: tensorboard<2.11,>=2.10 in .\\venv\\lib\\site-packages (from tensorflow) (2.10.0)\n",
      "Requirement already satisfied: keras<2.11,>=2.10.0 in .\\venv\\lib\\site-packages (from tensorflow) (2.10.0)\n",
      "Requirement already satisfied: libclang>=13.0.0 in .\\venv\\lib\\site-packages (from tensorflow) (14.0.6)\n",
      "Requirement already satisfied: h5py>=2.9.0 in .\\venv\\lib\\site-packages (from tensorflow) (3.7.0)\n",
      "Requirement already satisfied: absl-py>=1.0.0 in .\\venv\\lib\\site-packages (from tensorflow) (1.2.0)\n",
      "Requirement already satisfied: protobuf<3.20,>=3.9.2 in .\\venv\\lib\\site-packages (from tensorflow) (3.19.4)\n",
      "Requirement already satisfied: typing-extensions>=3.6.6 in .\\venv\\lib\\site-packages (from tensorflow) (4.3.0)\n",
      "Requirement already satisfied: setuptools in .\\venv\\lib\\site-packages (from tensorflow) (60.2.0)\n",
      "Requirement already satisfied: astunparse>=1.6.0 in .\\venv\\lib\\site-packages (from tensorflow) (1.6.3)\n",
      "Requirement already satisfied: packaging in .\\venv\\lib\\site-packages (from tensorflow) (21.3)\n",
      "Requirement already satisfied: six>=1.12.0 in .\\venv\\lib\\site-packages (from tensorflow) (1.16.0)\n",
      "Requirement already satisfied: opt-einsum>=2.3.2 in .\\venv\\lib\\site-packages (from tensorflow) (3.3.0)\n",
      "Requirement already satisfied: tensorflow-io-gcs-filesystem>=0.23.1 in .\\venv\\lib\\site-packages (from tensorflow) (0.27.0)\n",
      "Requirement already satisfied: keras-preprocessing>=1.1.1 in .\\venv\\lib\\site-packages (from tensorflow) (1.1.2)\n",
      "Requirement already satisfied: flatbuffers>=2.0 in .\\venv\\lib\\site-packages (from tensorflow) (2.0.7)\n",
      "Requirement already satisfied: gast<=0.4.0,>=0.2.1 in .\\venv\\lib\\site-packages (from tensorflow) (0.4.0)\n",
      "Requirement already satisfied: termcolor>=1.1.0 in .\\venv\\lib\\site-packages (from tensorflow) (2.0.0)\n",
      "Requirement already satisfied: tensorflow-estimator<2.11,>=2.10.0 in .\\venv\\lib\\site-packages (from tensorflow) (2.10.0)\n",
      "Requirement already satisfied: pyparsing>=2.2.1 in .\\venv\\lib\\site-packages (from matplotlib) (3.0.9)\n",
      "Requirement already satisfied: fonttools>=4.22.0 in .\\venv\\lib\\site-packages (from matplotlib) (4.37.1)\n",
      "Requirement already satisfied: cycler>=0.10 in .\\venv\\lib\\site-packages (from matplotlib) (0.11.0)\n",
      "Requirement already satisfied: kiwisolver>=1.0.1 in .\\venv\\lib\\site-packages (from matplotlib) (1.4.4)\n",
      "Requirement already satisfied: python-dateutil>=2.7 in .\\venv\\lib\\site-packages (from matplotlib) (2.8.2)\n",
      "Requirement already satisfied: pillow>=6.2.0 in .\\venv\\lib\\site-packages (from matplotlib) (9.2.0)\n",
      "Requirement already satisfied: wheel<1.0,>=0.23.0 in .\\venv\\lib\\site-packages (from astunparse>=1.6.0->tensorflow) (0.37.1)\n",
      "Requirement already satisfied: werkzeug>=1.0.1 in .\\venv\\lib\\site-packages (from tensorboard<2.11,>=2.10->tensorflow) (2.2.2)\n",
      "Requirement already satisfied: google-auth<3,>=1.6.3 in .\\venv\\lib\\site-packages (from tensorboard<2.11,>=2.10->tensorflow) (2.11.0)\n",
      "Requirement already satisfied: tensorboard-plugin-wit>=1.6.0 in .\\venv\\lib\\site-packages (from tensorboard<2.11,>=2.10->tensorflow) (1.8.1)\n",
      "Requirement already satisfied: requests<3,>=2.21.0 in .\\venv\\lib\\site-packages (from tensorboard<2.11,>=2.10->tensorflow) (2.28.1)\n",
      "Requirement already satisfied: tensorboard-data-server<0.7.0,>=0.6.0 in .\\venv\\lib\\site-packages (from tensorboard<2.11,>=2.10->tensorflow) (0.6.1)\n",
      "Requirement already satisfied: markdown>=2.6.8 in .\\venv\\lib\\site-packages (from tensorboard<2.11,>=2.10->tensorflow) (3.4.1)\n",
      "Requirement already satisfied: google-auth-oauthlib<0.5,>=0.4.1 in .\\venv\\lib\\site-packages (from tensorboard<2.11,>=2.10->tensorflow) (0.4.6)\n",
      "Requirement already satisfied: rsa<5,>=3.1.4 in .\\venv\\lib\\site-packages (from google-auth<3,>=1.6.3->tensorboard<2.11,>=2.10->tensorflow) (4.9)\n",
      "Requirement already satisfied: cachetools<6.0,>=2.0.0 in .\\venv\\lib\\site-packages (from google-auth<3,>=1.6.3->tensorboard<2.11,>=2.10->tensorflow) (5.2.0)\n",
      "Requirement already satisfied: pyasn1-modules>=0.2.1 in .\\venv\\lib\\site-packages (from google-auth<3,>=1.6.3->tensorboard<2.11,>=2.10->tensorflow) (0.2.8)\n",
      "Requirement already satisfied: requests-oauthlib>=0.7.0 in .\\venv\\lib\\site-packages (from google-auth-oauthlib<0.5,>=0.4.1->tensorboard<2.11,>=2.10->tensorflow) (1.3.1)\n",
      "Requirement already satisfied: charset-normalizer<3,>=2 in .\\venv\\lib\\site-packages (from requests<3,>=2.21.0->tensorboard<2.11,>=2.10->tensorflow) (2.1.1)\n",
      "Requirement already satisfied: urllib3<1.27,>=1.21.1 in .\\venv\\lib\\site-packages (from requests<3,>=2.21.0->tensorboard<2.11,>=2.10->tensorflow) (1.26.12)\n",
      "Requirement already satisfied: idna<4,>=2.5 in .\\venv\\lib\\site-packages (from requests<3,>=2.21.0->tensorboard<2.11,>=2.10->tensorflow) (3.3)\n",
      "Requirement already satisfied: certifi>=2017.4.17 in .\\venv\\lib\\site-packages (from requests<3,>=2.21.0->tensorboard<2.11,>=2.10->tensorflow) (2022.6.15.1)\n",
      "Requirement already satisfied: MarkupSafe>=2.1.1 in .\\venv\\lib\\site-packages (from werkzeug>=1.0.1->tensorboard<2.11,>=2.10->tensorflow) (2.1.1)\n",
      "Requirement already satisfied: pyasn1<0.5.0,>=0.4.6 in .\\venv\\lib\\site-packages (from pyasn1-modules>=0.2.1->google-auth<3,>=1.6.3->tensorboard<2.11,>=2.10->tensorflow) (0.4.8)\n",
      "Requirement already satisfied: oauthlib>=3.0.0 in .\\venv\\lib\\site-packages (from requests-oauthlib>=0.7.0->google-auth-oauthlib<0.5,>=0.4.1->tensorboard<2.11,>=2.10->tensorflow) (3.2.1)\n",
      "Note: you may need to restart the kernel to use updated packages.\n"
     ]
    },
    {
     "name": "stderr",
     "output_type": "stream",
     "text": [
      "WARNING: You are using pip version 21.3.1; however, version 22.2.2 is available.\n",
      "You should consider upgrading via the 'd:\\project\\venv\\Scripts\\python.exe -m pip install --upgrade pip' command.\n"
     ]
    }
   ],
   "source": [
    "\n",
    "%pip install tensorflow tensorflow-gpu opencv-python matplotlib "
   ]
  },
  {
   "cell_type": "markdown",
   "metadata": {
    "id": "gIFxsKAG-wX6",
    "pycharm": {
     "name": "#%% md\n"
    }
   },
   "source": [
    "Validation"
   ]
  },
  {
   "cell_type": "code",
   "execution_count": 29,
   "metadata": {
    "colab": {
     "base_uri": "https://localhost:8080/"
    },
    "id": "eSiUyLpQ-iba",
    "outputId": "5981907f-300a-4044-eb61-7787b09e5ae6",
    "pycharm": {
     "name": "#%%\n"
    }
   },
   "outputs": [
    {
     "name": "stdout",
     "output_type": "stream",
     "text": [
      "Package                      Version\n",
      "---------------------------- -----------\n",
      "absl-py                      1.2.0\n",
      "argon2-cffi                  21.3.0\n",
      "argon2-cffi-bindings         21.2.0\n",
      "asttokens                    2.0.8\n",
      "astunparse                   1.6.3\n",
      "attrs                        22.1.0\n",
      "backcall                     0.2.0\n",
      "beautifulsoup4               4.11.1\n",
      "bleach                       5.0.1\n",
      "cachetools                   5.2.0\n",
      "certifi                      2022.6.15.1\n",
      "cffi                         1.15.1\n",
      "charset-normalizer           2.1.1\n",
      "colorama                     0.4.5\n",
      "cycler                       0.11.0\n",
      "debugpy                      1.6.3\n",
      "decorator                    5.1.1\n",
      "defusedxml                   0.7.1\n",
      "entrypoints                  0.4\n",
      "executing                    1.0.0\n",
      "fastjsonschema               2.16.1\n",
      "flatbuffers                  2.0.7\n",
      "fonttools                    4.37.1\n",
      "gast                         0.4.0\n",
      "google-auth                  2.11.0\n",
      "google-auth-oauthlib         0.4.6\n",
      "google-pasta                 0.2.0\n",
      "grpcio                       1.48.1\n",
      "h5py                         3.7.0\n",
      "idna                         3.3\n",
      "ipykernel                    6.15.2\n",
      "ipython                      8.5.0\n",
      "ipython-genutils             0.2.0\n",
      "ipywidgets                   8.0.2\n",
      "jedi                         0.18.1\n",
      "Jinja2                       3.1.2\n",
      "jsonschema                   4.15.0\n",
      "jupyter                      1.0.0\n",
      "jupyter_client               7.3.5\n",
      "jupyter-console              6.4.4\n",
      "jupyter-core                 4.11.1\n",
      "jupyterlab-pygments          0.2.2\n",
      "jupyterlab-widgets           3.0.3\n",
      "keras                        2.10.0\n",
      "Keras-Preprocessing          1.1.2\n",
      "kiwisolver                   1.4.4\n",
      "libclang                     14.0.6\n",
      "lxml                         4.9.1\n",
      "Markdown                     3.4.1\n",
      "MarkupSafe                   2.1.1\n",
      "matplotlib                   3.5.3\n",
      "matplotlib-inline            0.1.6\n",
      "mistune                      2.0.4\n",
      "nbclient                     0.6.7\n",
      "nbconvert                    7.0.0\n",
      "nbformat                     5.4.0\n",
      "nest-asyncio                 1.5.5\n",
      "notebook                     6.4.12\n",
      "numpy                        1.23.3\n",
      "oauthlib                     3.2.1\n",
      "opencv-python                4.6.0.66\n",
      "opt-einsum                   3.3.0\n",
      "packaging                    21.3\n",
      "pandocfilters                1.5.0\n",
      "parso                        0.8.3\n",
      "pickleshare                  0.7.5\n",
      "Pillow                       9.2.0\n",
      "pip                          21.3.1\n",
      "prometheus-client            0.14.1\n",
      "prompt-toolkit               3.0.31\n",
      "protobuf                     3.19.4\n",
      "psutil                       5.9.2\n",
      "pure-eval                    0.2.2\n",
      "pyasn1                       0.4.8\n",
      "pyasn1-modules               0.2.8\n",
      "pycparser                    2.21\n",
      "Pygments                     2.13.0\n",
      "pyparsing                    3.0.9\n",
      "pyrsistent                   0.18.1\n",
      "python-dateutil              2.8.2\n",
      "pywin32                      304\n",
      "pywinpty                     2.0.7\n",
      "pyzmq                        23.2.1\n",
      "qtconsole                    5.3.2\n",
      "QtPy                         2.2.0\n",
      "requests                     2.28.1\n",
      "requests-oauthlib            1.3.1\n",
      "rsa                          4.9\n",
      "Send2Trash                   1.8.0\n",
      "setuptools                   60.2.0\n",
      "six                          1.16.0\n",
      "soupsieve                    2.3.2.post1\n",
      "stack-data                   0.5.0\n",
      "tensorboard                  2.10.0\n",
      "tensorboard-data-server      0.6.1\n",
      "tensorboard-plugin-wit       1.8.1\n",
      "tensorflow                   2.10.0\n",
      "tensorflow-estimator         2.10.0\n",
      "tensorflow-gpu               2.10.0\n",
      "tensorflow-io-gcs-filesystem 0.27.0\n",
      "termcolor                    2.0.0\n",
      "terminado                    0.15.0\n",
      "tinycss2                     1.1.1\n",
      "tornado                      6.2\n",
      "traitlets                    5.3.0\n",
      "typing_extensions            4.3.0\n",
      "urllib3                      1.26.12\n",
      "wcwidth                      0.2.5\n",
      "webencodings                 0.5.1\n",
      "Werkzeug                     2.2.2\n",
      "wheel                        0.37.1\n",
      "widgetsnbextension           4.0.3\n",
      "wrapt                        1.14.1\n",
      "Note: you may need to restart the kernel to use updated packages.\n"
     ]
    },
    {
     "name": "stderr",
     "output_type": "stream",
     "text": [
      "WARNING: You are using pip version 21.3.1; however, version 22.2.2 is available.\n",
      "You should consider upgrading via the 'd:\\project\\venv\\Scripts\\python.exe -m pip install --upgrade pip' command.\n"
     ]
    }
   ],
   "source": [
    "%pip list"
   ]
  },
  {
   "cell_type": "markdown",
   "metadata": {
    "id": "blacM8QS-2of",
    "pycharm": {
     "name": "#%% md\n"
    }
   },
   "source": [
    "Importing dependecies"
   ]
  },
  {
   "cell_type": "code",
   "execution_count": 30,
   "metadata": {
    "colab": {
     "base_uri": "https://localhost:8080/"
    },
    "id": "ZUzUJT6e-6Oc",
    "outputId": "e8c6b991-f670-4248-e6c5-d3ab909a0f8c",
    "pycharm": {
     "name": "#%%\n"
    }
   },
   "outputs": [],
   "source": [
    "import tensorflow as tf\n",
    "import os \n",
    "#navigate through file structures\n",
    "from tensorflow import keras\n",
    "from keras import layers"
   ]
  },
  {
   "cell_type": "markdown",
   "metadata": {
    "id": "U8HUtfRw_sAb",
    "pycharm": {
     "name": "#%% md\n"
    }
   },
   "source": [
    "Limiting gpu vrm usage "
   ]
  },
  {
   "cell_type": "code",
   "execution_count": 31,
   "metadata": {
    "id": "t3nVDnvo84NG",
    "pycharm": {
     "name": "#%%\n"
    }
   },
   "outputs": [],
   "source": [
    "import cv2\n",
    "import imghdr\n",
    "from matplotlib import pyplot as plt"
   ]
  },
  {
   "cell_type": "code",
   "execution_count": 37,
   "metadata": {
    "id": "-N8OMBfF9FoE",
    "pycharm": {
     "name": "#%%\n"
    }
   },
   "outputs": [],
   "source": [
    "os.chdir('D:\\\\project')\n",
    "data_dir = 'trainData'"
   ]
  },
  {
   "cell_type": "code",
   "execution_count": 39,
   "metadata": {
    "colab": {
     "base_uri": "https://localhost:8080/"
    },
    "id": "8bhvEbwc_Zp5",
    "outputId": "53720530-f42c-4b7a-820a-6cdbef40922c",
    "pycharm": {
     "name": "#%%\n"
    }
   },
   "outputs": [
    {
     "data": {
      "text/plain": [
       "['banana', 'mold', 'over_ripe', 'ripe', 'rotten', 'unripe']"
      ]
     },
     "execution_count": 39,
     "metadata": {},
     "output_type": "execute_result"
    }
   ],
   "source": [
    "os.listdir(data_dir)"
   ]
  },
  {
   "cell_type": "markdown",
   "metadata": {
    "id": "boqKXxNB859P",
    "pycharm": {
     "name": "#%% md\n"
    }
   },
   "source": [
    "Pre-processing"
   ]
  },
  {
   "cell_type": "code",
   "execution_count": 34,
   "metadata": {
    "id": "2UtGkdrs41Ym",
    "pycharm": {
     "name": "#%%\n"
    }
   },
   "outputs": [],
   "source": [
    "import numpy as np\n",
    "from matplotlib import pyplot as plt"
   ]
  },
  {
   "cell_type": "code",
   "execution_count": 40,
   "metadata": {
    "colab": {
     "base_uri": "https://localhost:8080/"
    },
    "id": "mwC3LJsM9XCy",
    "outputId": "86cb5098-d97a-46e2-b493-a37f0e2cab7c",
    "pycharm": {
     "name": "#%%\n"
    }
   },
   "outputs": [
    {
     "name": "stdout",
     "output_type": "stream",
     "text": [
      "Found 5264 files belonging to 6 classes.\n"
     ]
    }
   ],
   "source": [
    "data = tf.keras.utils.image_dataset_from_directory('trainData')"
   ]
  },
  {
   "cell_type": "code",
   "execution_count": null,
   "metadata": {
    "id": "7ea5u9Wn90eC",
    "pycharm": {
     "name": "#%%\n"
    }
   },
   "outputs": [],
   "source": [
    "data_iterator = data.as_numpy_iterator()"
   ]
  },
  {
   "cell_type": "code",
   "execution_count": null,
   "metadata": {
    "pycharm": {
     "name": "#%%\n"
    }
   },
   "outputs": [],
   "source": [
    "batch = data_iterator.next()"
   ]
  },
  {
   "cell_type": "code",
   "execution_count": null,
   "metadata": {
    "pycharm": {
     "name": "#%%\n"
    }
   },
   "outputs": [],
   "source": [
    "# Images represented as numpy arrays\n",
    "batch[0].shape"
   ]
  },
  {
   "cell_type": "code",
   "execution_count": null,
   "metadata": {
    "pycharm": {
     "name": "#%%\n"
    }
   },
   "outputs": [],
   "source": [
    "batch[1]"
   ]
  }
 ],
 "metadata": {
  "colab": {
   "provenance": []
  },
  "kernelspec": {
   "display_name": "Python 3.10.6 ('venv': venv)",
   "language": "python",
   "name": "python3"
  },
  "language_info": {
   "codemirror_mode": {
    "name": "ipython",
    "version": 3
   },
   "file_extension": ".py",
   "mimetype": "text/x-python",
   "name": "python",
   "nbconvert_exporter": "python",
   "pygments_lexer": "ipython3",
   "version": "3.10.6"
  },
  "vscode": {
   "interpreter": {
    "hash": "707836dacd96776de5c9dffe0e631ed620d9c825d6ed00ee556cb38e1087d13e"
   }
  }
 },
 "nbformat": 4,
 "nbformat_minor": 0
}
