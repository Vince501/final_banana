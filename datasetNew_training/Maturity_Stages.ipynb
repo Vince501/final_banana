{
  "cells": [
    {
      "cell_type": "code",
      "source": [
        "pip install split-folders[full]"
      ],
      "metadata": {
        "colab": {
          "base_uri": "https://localhost:8080/"
        },
        "id": "ZZRHUplKCCF6",
        "outputId": "e2f8f3b2-1481-490b-89e7-6068954a28c5"
      },
      "execution_count": null,
      "outputs": [
        {
          "output_type": "stream",
          "name": "stdout",
          "text": [
            "Looking in indexes: https://pypi.org/simple, https://us-python.pkg.dev/colab-wheels/public/simple/\n",
            "Collecting split-folders[full]\n",
            "  Downloading split_folders-0.5.1-py3-none-any.whl (8.4 kB)\n",
            "Requirement already satisfied: tqdm in /usr/local/lib/python3.8/dist-packages (from split-folders[full]) (4.64.1)\n",
            "Installing collected packages: split-folders\n",
            "Successfully installed split-folders-0.5.1\n"
          ]
        }
      ]
    },
    {
      "cell_type": "code",
      "execution_count": null,
      "metadata": {
        "collapsed": true,
        "pycharm": {
          "name": "#%%\n"
        },
        "id": "P8_0XWbXBsSU"
      },
      "outputs": [],
      "source": [
        "import splitfolders"
      ]
    },
    {
      "cell_type": "code",
      "execution_count": null,
      "outputs": [],
      "source": [
        "input_folder = 'dataset/'"
      ],
      "metadata": {
        "pycharm": {
          "name": "#%%\n"
        },
        "id": "F91uG7ZSBsSa"
      }
    },
    {
      "cell_type": "code",
      "execution_count": null,
      "outputs": [
        {
          "name": "stderr",
          "output_type": "stream",
          "text": [
            "Copying files: 342 files [00:02, 129.97 files/s]\n"
          ]
        }
      ],
      "source": [
        "# Split with a ratio.\n",
        "# To only split into training and validation set, set a tuple to `ratio`, i.e, `(.8, .2)`.\n",
        "#Train, val, test\n",
        "splitfolders.ratio(input_folder, output=\"datasetSorted\",\n",
        "                   seed=42, ratio=(.7, .2, .1),\n",
        "                   group_prefix=None) # default values"
      ],
      "metadata": {
        "pycharm": {
          "name": "#%%\n"
        },
        "id": "ilpwqlbxBsSb",
        "outputId": "8aa35816-afdd-434a-d11c-919571d8f916"
      }
    },
    {
      "cell_type": "code",
      "execution_count": null,
      "metadata": {
        "pycharm": {
          "name": "#%%\n"
        },
        "id": "DurFlmsY5omU"
      },
      "outputs": [],
      "source": [
        "import numpy as np\n",
        "import matplotlib.pyplot as plt\n",
        "import glob\n",
        "import cv2\n",
        "import os\n",
        "import seaborn as sns"
      ]
    },
    {
      "cell_type": "code",
      "source": [
        "from google.colab import drive\n",
        "drive.mount('/content/drive', force_remount=True)"
      ],
      "metadata": {
        "colab": {
          "base_uri": "https://localhost:8080/"
        },
        "id": "ysbByPJL5xmy",
        "outputId": "87b998bb-cef1-4770-f489-ed709039aa47"
      },
      "execution_count": null,
      "outputs": [
        {
          "output_type": "stream",
          "name": "stdout",
          "text": [
            "Mounted at /content/drive\n"
          ]
        }
      ]
    },
    {
      "cell_type": "code",
      "source": [
        "cd \"/content/drive/MyDrive/datasetNew/\""
      ],
      "metadata": {
        "colab": {
          "base_uri": "https://localhost:8080/"
        },
        "id": "VFst5MWt-BeD",
        "outputId": "cb50fdc5-f764-4a0e-a283-5e9b75acc816"
      },
      "execution_count": null,
      "outputs": [
        {
          "output_type": "stream",
          "name": "stdout",
          "text": [
            "/content/drive/MyDrive/datasetNew\n"
          ]
        }
      ]
    },
    {
      "cell_type": "code",
      "source": [
        "!ls"
      ],
      "metadata": {
        "colab": {
          "base_uri": "https://localhost:8080/"
        },
        "id": "w3dt8wR5-gT9",
        "outputId": "b3607652-841c-4503-a33a-8c3e2ae1aef8"
      },
      "execution_count": null,
      "outputs": [
        {
          "output_type": "stream",
          "name": "stdout",
          "text": [
            "dataset  datasetSorted\tproject2.ipynb\n"
          ]
        }
      ]
    },
    {
      "cell_type": "code",
      "execution_count": null,
      "outputs": [],
      "source": [
        "pip install --upgrade pip"
      ],
      "metadata": {
        "pycharm": {
          "name": "#%%\n"
        },
        "id": "-eodB-b05oma"
      }
    },
    {
      "cell_type": "code",
      "execution_count": null,
      "outputs": [],
      "source": [
        "pip install tensorflow"
      ],
      "metadata": {
        "pycharm": {
          "name": "#%%\n"
        },
        "id": "CTfpq9xs5omb"
      }
    },
    {
      "cell_type": "code",
      "execution_count": null,
      "outputs": [],
      "source": [
        "pip install tensorflow-gpu"
      ],
      "metadata": {
        "pycharm": {
          "name": "#%%\n"
        },
        "id": "krvk_2LU5omc"
      }
    },
    {
      "cell_type": "code",
      "execution_count": null,
      "outputs": [],
      "source": [
        "import keras"
      ],
      "metadata": {
        "pycharm": {
          "name": "#%%\n"
        },
        "id": "v_8pHHp65omc"
      }
    },
    {
      "cell_type": "code",
      "execution_count": null,
      "outputs": [],
      "source": [
        "import tensorflow"
      ],
      "metadata": {
        "pycharm": {
          "name": "#%%\n"
        },
        "id": "605294rv5omd"
      }
    },
    {
      "cell_type": "code",
      "execution_count": null,
      "outputs": [],
      "source": [
        "from tensorflow.keras.models import Model, Sequential\n",
        "from tensorflow.keras.layers import Dense, Flatten, Conv2D, MaxPooling2D\n",
        "from tensorflow.keras.models import Sequential\n",
        "from tensorflow.keras.layers import BatchNormalization"
      ],
      "metadata": {
        "pycharm": {
          "name": "#%%\n"
        },
        "id": "N_PjF_Kn5omd"
      }
    },
    {
      "cell_type": "code",
      "execution_count": null,
      "metadata": {
        "pycharm": {
          "name": "#%%\n"
        },
        "colab": {
          "base_uri": "https://localhost:8080/"
        },
        "id": "rXqTquMw5ome",
        "outputId": "e0d8a71f-cb9b-4527-b348-4297c764df8a"
      },
      "outputs": [
        {
          "output_type": "execute_result",
          "data": {
            "text/plain": [
              "['Developing Stage', 'Maturity Stage', 'Early Development Stage']"
            ]
          },
          "metadata": {},
          "execution_count": 13
        }
      ],
      "source": [
        "data_dir = 'datasetSorted/train'\n",
        "\n",
        "os.listdir(data_dir)"
      ]
    },
    {
      "cell_type": "code",
      "source": [
        "data_dir = 'datasetSorted/val'\n",
        "\n",
        "os.listdir(data_dir)"
      ],
      "metadata": {
        "colab": {
          "base_uri": "https://localhost:8080/"
        },
        "id": "_9BRUeAmi_N8",
        "outputId": "77e31626-e478-4030-bcfd-09345fa4d16a"
      },
      "execution_count": null,
      "outputs": [
        {
          "output_type": "execute_result",
          "data": {
            "text/plain": [
              "['Developing Stage', 'Maturity Stage', 'Early Development Stage']"
            ]
          },
          "metadata": {},
          "execution_count": 14
        }
      ]
    },
    {
      "cell_type": "code",
      "source": [
        "data_dir = 'datasetSorted/test'\n",
        "\n",
        "os.listdir(data_dir)"
      ],
      "metadata": {
        "colab": {
          "base_uri": "https://localhost:8080/"
        },
        "id": "lHvS6oGjjYcL",
        "outputId": "8c8a2492-303f-453f-ff34-fb87aa0d6632"
      },
      "execution_count": null,
      "outputs": [
        {
          "output_type": "execute_result",
          "data": {
            "text/plain": [
              "['Developing Stage', 'Early Development Stage', 'Maturity Stage']"
            ]
          },
          "metadata": {},
          "execution_count": 15
        }
      ]
    },
    {
      "cell_type": "code",
      "source": [
        "SIZE = 128\n",
        "\n",
        "train_images = []\n",
        "train_labels = []\n",
        "for directory_path in glob.glob(\"datasetSorted/train/*\"):\n",
        "    label = directory_path.split(\"\\\\\")[-1]\n",
        "    print(label)\n",
        "    for img_path in glob.glob(os.path.join(directory_path, \"*.jpg\")):\n",
        "        print(img_path)\n",
        "        img = cv2.imread(img_path, cv2.IMREAD_COLOR)\n",
        "        img = cv2.resize(img, (SIZE, SIZE))\n",
        "        img = cv2.cvtColor(img, cv2.COLOR_RGB2BGR)\n",
        "        train_images.append(img)\n",
        "        train_labels.append(label)\n",
        "train_images = np.array(train_images)\n",
        "train_labels = np.array(train_labels)"
      ],
      "metadata": {
        "colab": {
          "base_uri": "https://localhost:8080/"
        },
        "id": "_H4OZ_Tnjk03",
        "outputId": "b4a182f4-6b00-437a-ff83-835c4a374e82"
      },
      "execution_count": null,
      "outputs": [
        {
          "output_type": "stream",
          "name": "stdout",
          "text": [
            "datasetSorted/train/Developing Stage\n",
            "datasetSorted/train/Developing Stage/raw-cavendish-banana-leaves-plant-p-plots-bananas-near-maturation-green-117278779.jpg\n",
            "datasetSorted/train/Developing Stage/close-up-green-bananas-immature-grows-banana-tree-close-up-green-bananas-immature-grows-banana-tree-120758265.jpg\n",
            "datasetSorted/train/Developing Stage/images.jpg\n",
            "datasetSorted/train/Developing Stage/bananas-tree-banana-blossom-11438607.jpg\n",
            "datasetSorted/train/Developing Stage/bananas-growing-greenhousee-photographed-changchun-china-bananas-growing-greenhouse-170103117.jpg\n",
            "datasetSorted/train/Developing Stage/images (6).jpg\n",
            "datasetSorted/train/Developing Stage/images (1).jpg\n",
            "datasetSorted/train/Developing Stage/banana-tree-banana-blossom-banana-banana-blossom-hanging-banana-tree-129245323.jpg\n",
            "datasetSorted/train/Developing Stage/images (5).jpg\n",
            "datasetSorted/train/Developing Stage/banana-tree-bunch-bananas-232778787.jpg\n",
            "datasetSorted/train/Developing Stage/images (3).jpg\n",
            "datasetSorted/train/Developing Stage/images (16).jpg\n",
            "datasetSorted/train/Developing Stage/images (8).jpg\n",
            "datasetSorted/train/Developing Stage/images (11).jpg\n",
            "datasetSorted/train/Developing Stage/images (13).jpg\n",
            "datasetSorted/train/Developing Stage/images (18).jpg\n",
            "datasetSorted/train/Developing Stage/images (7).jpg\n",
            "datasetSorted/train/Developing Stage/images (14).jpg\n",
            "datasetSorted/train/Developing Stage/images (12).jpg\n",
            "datasetSorted/train/Developing Stage/images (15).jpg\n",
            "datasetSorted/train/Developing Stage/images (19).jpg\n",
            "datasetSorted/train/Developing Stage/images (17).jpg\n",
            "datasetSorted/train/Developing Stage/images (10).jpg\n",
            "datasetSorted/train/Developing Stage/images (1)_21856868451873.jpg\n",
            "datasetSorted/train/Developing Stage/images (23).jpg\n",
            "datasetSorted/train/Developing Stage/images (26).jpg\n",
            "datasetSorted/train/Developing Stage/images (24).jpg\n",
            "datasetSorted/train/Developing Stage/images (20).jpg\n",
            "datasetSorted/train/Developing Stage/images (25).jpg\n",
            "datasetSorted/train/Developing Stage/images (22).jpg\n",
            "datasetSorted/train/Developing Stage/images (13)_21862601438851.jpg\n",
            "datasetSorted/train/Developing Stage/images (11)_21856943577914.jpg\n",
            "datasetSorted/train/Developing Stage/images (16)_21862619736247.jpg\n",
            "datasetSorted/train/Developing Stage/images (6)_21856909938331.jpg\n",
            "datasetSorted/train/Developing Stage/images (4)_21856898220102.jpg\n",
            "datasetSorted/train/Developing Stage/images (8)_21856925598227.jpg\n",
            "datasetSorted/train/Developing Stage/images (17)_21862624565413.jpg\n",
            "datasetSorted/train/Developing Stage/images (14)_21862607244059.jpg\n",
            "datasetSorted/train/Developing Stage/images (15)_21862613197184.jpg\n",
            "datasetSorted/train/Developing Stage/images (7)_21856918902393.jpg\n",
            "datasetSorted/train/Developing Stage/images (28)_21862687355518.jpg\n",
            "datasetSorted/train/Developing Stage/images (22)_21862651100830.jpg\n",
            "datasetSorted/train/Developing Stage/images (21)_21862646867497.jpg\n",
            "datasetSorted/train/Developing Stage/images (23)_21862657990934.jpg\n",
            "datasetSorted/train/Developing Stage/images (27)_21862680712288.jpg\n",
            "datasetSorted/train/Developing Stage/images (26)_21862673835726.jpg\n",
            "datasetSorted/train/Developing Stage/images (20)_21862641860726.jpg\n",
            "datasetSorted/train/Developing Stage/images (29).jpg\n",
            "datasetSorted/train/Developing Stage/images (30).jpg\n",
            "datasetSorted/train/Developing Stage/images (19)_21862637600309.jpg\n",
            "datasetSorted/train/Developing Stage/images (18)_21862633162288.jpg\n",
            "datasetSorted/train/Developing Stage/images (25)_21862669037288.jpg\n",
            "datasetSorted/train/Developing Stage/h4407y.jpg\n",
            "datasetSorted/train/Developing Stage/images (33).jpg\n",
            "datasetSorted/train/Developing Stage/images (34).jpg\n",
            "datasetSorted/train/Developing Stage/images (32).jpg\n",
            "datasetSorted/train/Developing Stage/jadm0k.jpg\n",
            "datasetSorted/train/Developing Stage/d8h89t.jpg\n",
            "datasetSorted/train/Developing Stage/p80amr.jpg\n",
            "datasetSorted/train/Developing Stage/images (36).jpg\n",
            "datasetSorted/train/Developing Stage/a6f6pr.jpg\n",
            "datasetSorted/train/Developing Stage/2hkk0jt.jpg\n",
            "datasetSorted/train/Developing Stage/2a26y0a.jpg\n",
            "datasetSorted/train/Developing Stage/jawc3d.jpg\n",
            "datasetSorted/train/Developing Stage/2hkjy3a.jpg\n",
            "datasetSorted/train/Developing Stage/2hkk0bn.jpg\n",
            "datasetSorted/train/Developing Stage/g0kya3.jpg\n",
            "datasetSorted/train/Developing Stage/ej9keh.jpg\n",
            "datasetSorted/train/Developing Stage/bhkrh6.jpg\n",
            "datasetSorted/train/Developing Stage/tcre3w.jpg\n",
            "datasetSorted/train/Developing Stage/j75fa4.jpg\n",
            "datasetSorted/train/Developing Stage/ebkb43.jpg\n",
            "datasetSorted/train/Developing Stage/d4e5db.jpg\n",
            "datasetSorted/train/Developing Stage/j5xnnd.jpg\n",
            "datasetSorted/train/Developing Stage/d4e5cn.jpg\n",
            "datasetSorted/train/Developing Stage/2a26tga.jpg\n",
            "datasetSorted/train/Developing Stage/cnrban.jpg\n",
            "datasetSorted/train/Maturity Stage\n",
            "datasetSorted/train/Maturity Stage/download.jpg\n",
            "datasetSorted/train/Maturity Stage/images.jpg\n",
            "datasetSorted/train/Maturity Stage/images (1).jpg\n",
            "datasetSorted/train/Maturity Stage/images (6).jpg\n",
            "datasetSorted/train/Maturity Stage/images (9).jpg\n",
            "datasetSorted/train/Maturity Stage/images (2).jpg\n",
            "datasetSorted/train/Maturity Stage/images (8).jpg\n",
            "datasetSorted/train/Maturity Stage/images (7).jpg\n",
            "datasetSorted/train/Maturity Stage/images (3).jpg\n",
            "datasetSorted/train/Maturity Stage/images (5).jpg\n",
            "datasetSorted/train/Maturity Stage/images (19).jpg\n",
            "datasetSorted/train/Maturity Stage/images (26).jpg\n",
            "datasetSorted/train/Maturity Stage/images (21).jpg\n",
            "datasetSorted/train/Maturity Stage/images (10).jpg\n",
            "datasetSorted/train/Maturity Stage/images (13).jpg\n",
            "datasetSorted/train/Maturity Stage/download (2).jpg\n",
            "datasetSorted/train/Maturity Stage/images (22).jpg\n",
            "datasetSorted/train/Maturity Stage/images (16).jpg\n",
            "datasetSorted/train/Maturity Stage/images (50).jpg\n",
            "datasetSorted/train/Maturity Stage/images (53).jpg\n",
            "datasetSorted/train/Maturity Stage/images (46).jpg\n",
            "datasetSorted/train/Maturity Stage/images (33).jpg\n",
            "datasetSorted/train/Maturity Stage/images (32).jpg\n",
            "datasetSorted/train/Maturity Stage/images (37).jpg\n",
            "datasetSorted/train/Maturity Stage/images (43).jpg\n",
            "datasetSorted/train/Maturity Stage/images (28).jpg\n",
            "datasetSorted/train/Maturity Stage/images (12).jpg\n",
            "datasetSorted/train/Maturity Stage/images (17).jpg\n",
            "datasetSorted/train/Maturity Stage/images (25).jpg\n",
            "datasetSorted/train/Maturity Stage/images (54).jpg\n",
            "datasetSorted/train/Maturity Stage/images (11).jpg\n",
            "datasetSorted/train/Maturity Stage/images (55).jpg\n",
            "datasetSorted/train/Maturity Stage/images (23).jpg\n",
            "datasetSorted/train/Maturity Stage/images (20).jpg\n",
            "datasetSorted/train/Maturity Stage/images (31).jpg\n",
            "datasetSorted/train/Maturity Stage/images (38).jpg\n",
            "datasetSorted/train/Maturity Stage/images (42).jpg\n",
            "datasetSorted/train/Maturity Stage/images (39).jpg\n",
            "datasetSorted/train/Maturity Stage/images (35).jpg\n",
            "datasetSorted/train/Maturity Stage/images (48).jpg\n",
            "datasetSorted/train/Maturity Stage/images (27).jpg\n",
            "datasetSorted/train/Maturity Stage/images (40).jpg\n",
            "datasetSorted/train/Maturity Stage/images (45).jpg\n",
            "datasetSorted/train/Maturity Stage/images (58).jpg\n",
            "datasetSorted/train/Maturity Stage/images (57).jpg\n",
            "datasetSorted/train/Maturity Stage/images (52).jpg\n",
            "datasetSorted/train/Maturity Stage/images (56).jpg\n",
            "datasetSorted/train/Maturity Stage/bunch-bananas-on-banana-plants-260nw-2081244262.jpg\n",
            "datasetSorted/train/Maturity Stage/bunches-ripe-banana-outdoor-market-260nw-2212841095.jpg\n",
            "datasetSorted/train/Maturity Stage/bunch-green-bananas-isolated-on-260nw-2228563595.jpg\n",
            "datasetSorted/train/Maturity Stage/banana-bunch-260nw-469957484.jpg\n",
            "datasetSorted/train/Maturity Stage/bunch-ripening-bananas-on-tree-260nw-116865079.jpg\n",
            "datasetSorted/train/Maturity Stage/bananas-on-white-background-very-260nw-1997234714.jpg\n",
            "datasetSorted/train/Maturity Stage/bananas-260nw-96366275.jpg\n",
            "datasetSorted/train/Maturity Stage/banana-isolated-on-white-background-260nw-1921988852.jpg\n",
            "datasetSorted/train/Maturity Stage/bunch-ripe-yellow-banana-plantation-260nw-2223581335.jpg\n",
            "datasetSorted/train/Maturity Stage/banana-plantation-israel-260nw-190510766.jpg\n",
            "datasetSorted/train/Maturity Stage/bananas-one-oldest-food-crops-260nw-2117305700.jpg\n",
            "datasetSorted/train/Maturity Stage/bunch-green-bananas-handing-suspended-260nw-1948426138.jpg\n",
            "datasetSorted/train/Maturity Stage/beautiful-banana-tree-home-garden-260nw-1843661860.jpg\n",
            "datasetSorted/train/Maturity Stage/bunch-bananas-musa-acuminata-on-260nw-2056011689.jpg\n",
            "datasetSorted/train/Maturity Stage/bunch-green-bananas-ripens-on-260nw-1777933715.jpg\n",
            "datasetSorted/train/Maturity Stage/bananas-on-white-background-very-260nw-2024146520.jpg\n",
            "datasetSorted/train/Maturity Stage/beauty-banana-leaf-260nw-1889007193.jpg\n",
            "datasetSorted/train/Maturity Stage/bananas-on-white-background-very-260nw-2024146523.jpg\n",
            "datasetSorted/train/Maturity Stage/many-yellow-banana-isolated-260nw-572201524.jpg\n",
            "datasetSorted/train/Maturity Stage/green-banana-fruitnature-food-top-260nw-1902554674.jpg\n",
            "datasetSorted/train/Maturity Stage/green-banana-on-foot-260nw-1225419367.jpg\n",
            "datasetSorted/train/Maturity Stage/closeup-bunch-growing-ripe-yellow-260nw-2226602109.jpg\n",
            "datasetSorted/train/Maturity Stage/cultivated-banana-isolated-on-white-260nw-681926761.jpg\n",
            "datasetSorted/train/Maturity Stage/ripe-banana-tropical-fruit-on-260nw-1863966076.jpg\n",
            "datasetSorted/train/Maturity Stage/green-banana-woven-bamboo-260nw-1933127618.jpg\n",
            "datasetSorted/train/Maturity Stage/creative-yellow-bananas-pattern-on-260nw-1844255578.jpg\n",
            "datasetSorted/train/Maturity Stage/green-banana-on-tree-many-260nw-2045852909.jpg\n",
            "datasetSorted/train/Maturity Stage/green-cavendish-banana-sliced-on-260nw-1644435271.jpg\n",
            "datasetSorted/train/Maturity Stage/green-banana-260nw-151412933.jpg\n",
            "datasetSorted/train/Maturity Stage/extreme-close-growing-ash-plantain-260nw-2100066403.jpg\n",
            "datasetSorted/train/Maturity Stage/fruit-ripening-closeup-bunch-banana-260nw-2223503837.jpg\n",
            "datasetSorted/train/Maturity Stage/hand-banana-near-wooden-bridge-260nw-634975043.jpg\n",
            "datasetSorted/train/Maturity Stage/four-canarian-bananas-their-appropriate-260nw-2222737883.jpg\n",
            "datasetSorted/train/Maturity Stage/rows-bananas-260nw-118587604.jpg\n",
            "datasetSorted/train/Maturity Stage/close-mature-ash-plantain-cooking-260nw-2099208685.jpg\n",
            "datasetSorted/train/Maturity Stage/raw-bananas-gardeners-cut-matured-260nw-1817563778.jpg\n",
            "datasetSorted/train/Maturity Stage/mature-bananas-260nw-589525673.jpg\n",
            "datasetSorted/train/Maturity Stage/plantain-bunch-clusters-called-hands-260nw-1832603563.jpg\n",
            "datasetSorted/train/Maturity Stage/pile-immature-mature-banana-musa-260nw-1054827452.jpg\n",
            "datasetSorted/train/Maturity Stage/tropical-bananas-on-counter-grocery-260nw-1880757787.jpg\n",
            "datasetSorted/train/Maturity Stage/young-green-bananas-near-maturity-260nw-2081230843.jpg\n",
            "datasetSorted/train/Early Development Stage\n",
            "datasetSorted/train/Early Development Stage/download.jpg\n",
            "datasetSorted/train/Early Development Stage/images (5).jpg\n",
            "datasetSorted/train/Early Development Stage/images (2).jpg\n",
            "datasetSorted/train/Early Development Stage/images.jpg\n",
            "datasetSorted/train/Early Development Stage/images (1).jpg\n",
            "datasetSorted/train/Early Development Stage/images (6).jpg\n",
            "datasetSorted/train/Early Development Stage/download_119299716986483.jpg\n",
            "datasetSorted/train/Early Development Stage/images (8).jpg\n",
            "datasetSorted/train/Early Development Stage/download (4).jpg\n",
            "datasetSorted/train/Early Development Stage/immature-bananas-tree-176778591.jpg\n",
            "datasetSorted/train/Early Development Stage/download (1).jpg\n",
            "datasetSorted/train/Early Development Stage/images (10).jpg\n",
            "datasetSorted/train/Early Development Stage/download (3).jpg\n",
            "datasetSorted/train/Early Development Stage/growing-bananas.jpg\n",
            "datasetSorted/train/Early Development Stage/download (2).jpg\n",
            "datasetSorted/train/Early Development Stage/download (5).jpg\n",
            "datasetSorted/train/Early Development Stage/images (1)_119299753931274.jpg\n",
            "datasetSorted/train/Early Development Stage/images (8)_119299786364608.jpg\n",
            "datasetSorted/train/Early Development Stage/images (5)_119299775833879.jpg\n",
            "datasetSorted/train/Early Development Stage/images (12).jpg\n",
            "datasetSorted/train/Early Development Stage/images (4)_119299771026066.jpg\n",
            "datasetSorted/train/Early Development Stage/images (3)_119299766842733.jpg\n",
            "datasetSorted/train/Early Development Stage/images (10)_119299793706274.jpg\n",
            "datasetSorted/train/Early Development Stage/images (7)_119299782813045.jpg\n",
            "datasetSorted/train/Early Development Stage/images (22).jpg\n",
            "datasetSorted/train/Early Development Stage/images (17).jpg\n",
            "datasetSorted/train/Early Development Stage/images (25).jpg\n",
            "datasetSorted/train/Early Development Stage/images (18).jpg\n",
            "datasetSorted/train/Early Development Stage/images (19).jpg\n",
            "datasetSorted/train/Early Development Stage/images (21).jpg\n",
            "datasetSorted/train/Early Development Stage/images (23).jpg\n",
            "datasetSorted/train/Early Development Stage/images (16).jpg\n",
            "datasetSorted/train/Early Development Stage/images (15).jpg\n",
            "datasetSorted/train/Early Development Stage/images (13).jpg\n",
            "datasetSorted/train/Early Development Stage/images (20).jpg\n",
            "datasetSorted/train/Early Development Stage/images (32).jpg\n",
            "datasetSorted/train/Early Development Stage/images (27).jpg\n",
            "datasetSorted/train/Early Development Stage/images (31).jpg\n",
            "datasetSorted/train/Early Development Stage/images (29).jpg\n",
            "datasetSorted/train/Early Development Stage/images (28).jpg\n",
            "datasetSorted/train/Early Development Stage/images (33).jpg\n",
            "datasetSorted/train/Early Development Stage/close-up-natural-cute-small-green-bananas-fruits-tree-africa-unripe-harvesting-126406160.jpg\n",
            "datasetSorted/train/Early Development Stage/immature-banana-on-tree-260nw-1681591729.jpg\n",
            "datasetSorted/train/Early Development Stage/banana-tree-260nw-300855182.jpg\n",
            "datasetSorted/train/Early Development Stage/banana-plant-la-palma-spain-260nw-555137005.jpg\n",
            "datasetSorted/train/Early Development Stage/close-natural-cute-small-green-260nw-1181395177.jpg\n",
            "datasetSorted/train/Early Development Stage/banana-blossom-on-tree-bamboo-260nw-339218243.jpg\n",
            "datasetSorted/train/Early Development Stage/banana-tree-blossom-260nw-362156039.jpg\n",
            "datasetSorted/train/Early Development Stage/banana-blossom-bunch-on-tree-260nw-402738019.jpg\n",
            "datasetSorted/train/Early Development Stage/banana-blossoms-accidentally-peeling-wait-260nw-2131197667.jpg\n",
            "datasetSorted/train/Early Development Stage/close-view-tender-robusta-banana-260nw-2174585831.jpg\n",
            "datasetSorted/train/Early Development Stage/banana-flower-light-blessing-ceremony-260nw-680933089.jpg\n",
            "datasetSorted/train/Early Development Stage/young-bunch-bananas-260nw-549513892.jpg\n",
            "datasetSorted/train/Early Development Stage/banana-perennial-blossom-green-immature-260nw-1129164071.jpg\n",
            "datasetSorted/train/Early Development Stage/banana-blossom-bunch-on-tree-260nw-403521757.jpg\n",
            "datasetSorted/train/Early Development Stage/banana-tree-blossom-260nw-357262355.jpg\n",
            "datasetSorted/train/Early Development Stage/banana-heart-flowers-dark-red-260nw-2189270685.jpg\n",
            "datasetSorted/train/Early Development Stage/bananas-growing-on-plant-north-260nw-95210404 (1).jpg\n",
            "datasetSorted/train/Early Development Stage/banana-heart-flowers-dark-red-260nw-2194853537.jpg\n",
            "datasetSorted/train/Early Development Stage/serpong-indonesia-july-17-2022-260nw-2180452217.jpg\n",
            "datasetSorted/train/Early Development Stage/banana-tree-blossom-260nw-1226790568.jpg\n",
            "datasetSorted/train/Early Development Stage/immature-banana-has-flowers-on-260nw-2034836858.jpg\n",
            "datasetSorted/train/Early Development Stage/banana-heart-unripe-white-house-260nw-2201059775.jpg\n",
            "datasetSorted/train/Early Development Stage/banana-bunch-on-tree-260nw-90510277.jpg\n",
            "datasetSorted/train/Early Development Stage/banana-tree-blossom-260nw-600182750.jpg\n",
            "datasetSorted/train/Early Development Stage/banana-tree-cluster-immature-fruits-260nw-2178429463.jpg\n",
            "datasetSorted/train/Early Development Stage/bananas-growing-on-plant-north-260nw-95210404.jpg\n",
            "datasetSorted/train/Early Development Stage/banana-tree-260nw-673529236.jpg\n",
            "datasetSorted/train/Early Development Stage/green-bananas-yielding-cash-crops-260nw-2131203071.jpg\n",
            "datasetSorted/train/Early Development Stage/closeup-banana-bunch-260nw-152724152.jpg\n",
            "datasetSorted/train/Early Development Stage/banana-unripe-cultivar-bananas-on-260nw-375521017.jpg\n",
            "datasetSorted/train/Early Development Stage/banana-flower-light-blessing-ceremony-260nw-680861443.jpg\n"
          ]
        }
      ]
    },
    {
      "cell_type": "code",
      "source": [
        "# validation\n",
        "validation_images = []\n",
        "validation_labels = []\n",
        "for directory_path in glob.glob(\"datasetSorted/val/*\"):\n",
        "    fruit_label = directory_path.split(\"\\\\\")[-1]\n",
        "    for img_path in glob.glob(os.path.join(directory_path, \"*.jpg\")):\n",
        "        img = cv2.imread(img_path, cv2.IMREAD_COLOR)\n",
        "        img = cv2.resize(img, (SIZE, SIZE))\n",
        "        img = cv2.cvtColor(img, cv2.COLOR_RGB2BGR)\n",
        "        validation_images.append(img)\n",
        "        validation_labels.append(fruit_label)\n",
        "validation_images = np.array(validation_images)\n",
        "validation_labels = np.array(validation_labels)"
      ],
      "metadata": {
        "id": "atSzB9-YkEmw"
      },
      "execution_count": null,
      "outputs": []
    },
    {
      "cell_type": "code",
      "source": [
        "validation_images.shape"
      ],
      "metadata": {
        "colab": {
          "base_uri": "https://localhost:8080/"
        },
        "id": "oAyasph4kWwu",
        "outputId": "e3564186-8765-4df7-9b53-5423661d9f9a"
      },
      "execution_count": null,
      "outputs": [
        {
          "output_type": "execute_result",
          "data": {
            "text/plain": [
              "(67, 128, 128, 3)"
            ]
          },
          "metadata": {},
          "execution_count": 18
        }
      ]
    },
    {
      "cell_type": "code",
      "source": [
        "# test\n",
        "test_images = []\n",
        "test_labels = []\n",
        "for directory_path in glob.glob(\"datasetSorted/test/*\"):\n",
        "    fruit_label = directory_path.split(\"\\\\\")[-1]\n",
        "    for img_path in glob.glob(os.path.join(directory_path, \"*.jpg\")):\n",
        "        img = cv2.imread(img_path, cv2.IMREAD_COLOR)\n",
        "        img = cv2.resize(img, (SIZE, SIZE))\n",
        "        img = cv2.cvtColor(img, cv2.COLOR_RGB2BGR)\n",
        "        test_images.append(img)\n",
        "        test_labels.append(fruit_label)\n",
        "test_images = np.array(test_images)\n",
        "test_labels = np.array(test_labels)"
      ],
      "metadata": {
        "id": "RhXL9wuwkZ-h"
      },
      "execution_count": null,
      "outputs": []
    },
    {
      "cell_type": "code",
      "source": [
        "import sklearn\n",
        "#Encode labels from text to integers.\n",
        "from sklearn import preprocessing\n",
        "le = preprocessing.LabelEncoder()\n",
        "le.fit(validation_labels)\n",
        "validation_labels_encoded = le.transform(validation_labels)\n",
        "le.fit(train_labels)\n",
        "train_labels_encoded = le.transform(train_labels)"
      ],
      "metadata": {
        "id": "TC_JuTCvk20h"
      },
      "execution_count": null,
      "outputs": []
    },
    {
      "cell_type": "code",
      "source": [
        "#Split data into validation and train datasets (already split but assigning to meaningful convention)\n",
        "x_train, y_train, x_validation, y_validation = train_images, train_labels_encoded, validation_images, validation_labels_encoded\n",
        "# Normalize pixel values to between 0 and 1\n",
        "x_train, x_validation = x_train / 255.0, x_validation / 255.0\n",
        "\n",
        "# testing\n",
        "x_test = test_images\n",
        "x_test = x_test / 255.0"
      ],
      "metadata": {
        "id": "a-lYeW-2k6T_"
      },
      "execution_count": null,
      "outputs": []
    },
    {
      "cell_type": "code",
      "source": [
        "#One hot encode y values for neural network.\n",
        "from keras.utils import to_categorical\n",
        "y_train_one_hot = to_categorical(y_train)\n",
        "y_validation_one_hot = to_categorical(y_validation)"
      ],
      "metadata": {
        "id": "f2r2HiJqk9k6"
      },
      "execution_count": null,
      "outputs": []
    },
    {
      "cell_type": "code",
      "source": [
        "activation = 'relu'\n",
        "\n",
        "#feature_extractor instead of model\n",
        "feature_extractor = Sequential()\n",
        "feature_extractor.add(Conv2D(32, 3, activation = activation, padding = 'same', input_shape = (SIZE, SIZE, 3)))\n",
        "feature_extractor.add(BatchNormalization())\n",
        "\n",
        "feature_extractor.add(Conv2D(32, 3, activation = activation, padding = 'same', kernel_initializer = 'he_uniform'))\n",
        "feature_extractor.add(BatchNormalization())\n",
        "feature_extractor.add(MaxPooling2D())\n",
        "\n",
        "feature_extractor.add(Conv2D(64, 3, activation = activation, padding = 'same', kernel_initializer = 'he_uniform'))\n",
        "feature_extractor.add(BatchNormalization())\n",
        "\n",
        "feature_extractor.add(Conv2D(64, 3, activation = activation, padding = 'same', kernel_initializer = 'he_uniform'))\n",
        "feature_extractor.add(BatchNormalization())\n",
        "feature_extractor.add(MaxPooling2D())\n",
        "\n",
        "feature_extractor.add(Flatten())"
      ],
      "metadata": {
        "id": "0DexU6n8lEpH"
      },
      "execution_count": null,
      "outputs": []
    },
    {
      "cell_type": "code",
      "source": [
        "#Add layers for deep learning prediction\n",
        "x = feature_extractor.output\n",
        "x = Dense(128, activation = activation, kernel_initializer = 'he_uniform')(x)\n",
        "prediction_layer = Dense(3, activation = 'softmax')(x)\n",
        "#because of 3 classes"
      ],
      "metadata": {
        "id": "smgx93vrlGpw"
      },
      "execution_count": null,
      "outputs": []
    },
    {
      "cell_type": "code",
      "source": [
        "# Make a new model combining both feature extractor and x\n",
        "cnn_model = Model(inputs=feature_extractor.input, outputs=prediction_layer)\n",
        "cnn_model.compile(optimizer='rmsprop',loss = 'categorical_crossentropy', metrics = ['accuracy'])\n",
        "print(cnn_model.summary())"
      ],
      "metadata": {
        "colab": {
          "base_uri": "https://localhost:8080/"
        },
        "id": "6qS-PRa_lNoc",
        "outputId": "2c0a9ec7-64f1-411e-f086-b94127b2f57c"
      },
      "execution_count": null,
      "outputs": [
        {
          "output_type": "stream",
          "name": "stdout",
          "text": [
            "Model: \"model\"\n",
            "_________________________________________________________________\n",
            " Layer (type)                Output Shape              Param #   \n",
            "=================================================================\n",
            " conv2d_input (InputLayer)   [(None, 128, 128, 3)]     0         \n",
            "                                                                 \n",
            " conv2d (Conv2D)             (None, 128, 128, 32)      896       \n",
            "                                                                 \n",
            " batch_normalization (BatchN  (None, 128, 128, 32)     128       \n",
            " ormalization)                                                   \n",
            "                                                                 \n",
            " conv2d_1 (Conv2D)           (None, 128, 128, 32)      9248      \n",
            "                                                                 \n",
            " batch_normalization_1 (Batc  (None, 128, 128, 32)     128       \n",
            " hNormalization)                                                 \n",
            "                                                                 \n",
            " max_pooling2d (MaxPooling2D  (None, 64, 64, 32)       0         \n",
            " )                                                               \n",
            "                                                                 \n",
            " conv2d_2 (Conv2D)           (None, 64, 64, 64)        18496     \n",
            "                                                                 \n",
            " batch_normalization_2 (Batc  (None, 64, 64, 64)       256       \n",
            " hNormalization)                                                 \n",
            "                                                                 \n",
            " conv2d_3 (Conv2D)           (None, 64, 64, 64)        36928     \n",
            "                                                                 \n",
            " batch_normalization_3 (Batc  (None, 64, 64, 64)       256       \n",
            " hNormalization)                                                 \n",
            "                                                                 \n",
            " max_pooling2d_1 (MaxPooling  (None, 32, 32, 64)       0         \n",
            " 2D)                                                             \n",
            "                                                                 \n",
            " flatten (Flatten)           (None, 65536)             0         \n",
            "                                                                 \n",
            " dense (Dense)               (None, 128)               8388736   \n",
            "                                                                 \n",
            " dense_1 (Dense)             (None, 3)                 387       \n",
            "                                                                 \n",
            "=================================================================\n",
            "Total params: 8,455,459\n",
            "Trainable params: 8,455,075\n",
            "Non-trainable params: 384\n",
            "_________________________________________________________________\n",
            "None\n"
          ]
        }
      ]
    },
    {
      "cell_type": "code",
      "source": [
        "from __future__ import absolute_import, division, print_function\n",
        "import tensorflow as tf\n",
        "from tensorflow import keras\n",
        "tf.__version__"
      ],
      "metadata": {
        "colab": {
          "base_uri": "https://localhost:8080/",
          "height": 35
        },
        "id": "pwJVyF7alTG3",
        "outputId": "b47339d8-7f23-472b-8709-253a4d85f97a"
      },
      "execution_count": null,
      "outputs": [
        {
          "output_type": "execute_result",
          "data": {
            "text/plain": [
              "'2.11.0'"
            ],
            "application/vnd.google.colaboratory.intrinsic+json": {
              "type": "string"
            }
          },
          "metadata": {},
          "execution_count": 26
        }
      ]
    },
    {
      "cell_type": "code",
      "source": [
        "#Train the CNN model\n",
        "## checkpointing\n",
        "checkpoint_path = \"models_saved/cp.ckpt\"\n",
        "checkpoint_dir = os.path.dirname(checkpoint_path)\n",
        "# Checkpoint callback\n",
        "cp_callback = tf.keras.callbacks.ModelCheckpoint(checkpoint_path, save_weights_only=True, verbose=1)"
      ],
      "metadata": {
        "id": "MdA-HhCelYPa"
      },
      "execution_count": null,
      "outputs": []
    },
    {
      "cell_type": "code",
      "source": [
        "history = cnn_model.fit(x_train, y_train_one_hot, epochs=40, validation_data = (x_validation, y_validation_one_hot),callbacks=[cp_callback])"
      ],
      "metadata": {
        "colab": {
          "base_uri": "https://localhost:8080/"
        },
        "id": "q-PLMJTIlyVn",
        "outputId": "908350b7-aca9-4e41-9b25-2cdc06734728"
      },
      "execution_count": null,
      "outputs": [
        {
          "output_type": "stream",
          "name": "stdout",
          "text": [
            "Epoch 1/40\n",
            "8/8 [==============================] - ETA: 0s - loss: 51.6020 - accuracy: 0.4135\n",
            "Epoch 1: saving model to models_saved/cp.ckpt\n",
            "8/8 [==============================] - 13s 250ms/step - loss: 51.6020 - accuracy: 0.4135 - val_loss: 75.2738 - val_accuracy: 0.3731\n",
            "Epoch 2/40\n",
            "7/8 [=========================>....] - ETA: 0s - loss: 6.1379 - accuracy: 0.6652\n",
            "Epoch 2: saving model to models_saved/cp.ckpt\n",
            "8/8 [==============================] - 1s 90ms/step - loss: 5.9703 - accuracy: 0.6667 - val_loss: 10.9471 - val_accuracy: 0.4179\n",
            "Epoch 3/40\n",
            "7/8 [=========================>....] - ETA: 0s - loss: 1.5639 - accuracy: 0.8616\n",
            "Epoch 3: saving model to models_saved/cp.ckpt\n",
            "8/8 [==============================] - 1s 153ms/step - loss: 1.5110 - accuracy: 0.8650 - val_loss: 8.7969 - val_accuracy: 0.4328\n",
            "Epoch 4/40\n",
            "7/8 [=========================>....] - ETA: 0s - loss: 0.2520 - accuracy: 0.9152\n",
            "Epoch 4: saving model to models_saved/cp.ckpt\n",
            "8/8 [==============================] - 1s 82ms/step - loss: 0.2466 - accuracy: 0.9156 - val_loss: 4.2387 - val_accuracy: 0.5075\n",
            "Epoch 5/40\n",
            "7/8 [=========================>....] - ETA: 0s - loss: 0.4571 - accuracy: 0.9554\n",
            "Epoch 5: saving model to models_saved/cp.ckpt\n",
            "8/8 [==============================] - 1s 90ms/step - loss: 0.4323 - accuracy: 0.9578 - val_loss: 5.3541 - val_accuracy: 0.5672\n",
            "Epoch 6/40\n",
            "7/8 [=========================>....] - ETA: 0s - loss: 0.3169 - accuracy: 0.9509\n",
            "Epoch 6: saving model to models_saved/cp.ckpt\n",
            "8/8 [==============================] - 1s 114ms/step - loss: 0.3232 - accuracy: 0.9451 - val_loss: 7.4193 - val_accuracy: 0.5672\n",
            "Epoch 7/40\n",
            "7/8 [=========================>....] - ETA: 0s - loss: 0.8397 - accuracy: 0.9196\n",
            "Epoch 7: saving model to models_saved/cp.ckpt\n",
            "8/8 [==============================] - 1s 82ms/step - loss: 0.9232 - accuracy: 0.9030 - val_loss: 10.2016 - val_accuracy: 0.5821\n",
            "Epoch 8/40\n",
            "7/8 [=========================>....] - ETA: 0s - loss: 1.8181 - accuracy: 0.8661\n",
            "Epoch 8: saving model to models_saved/cp.ckpt\n",
            "8/8 [==============================] - 1s 89ms/step - loss: 1.7589 - accuracy: 0.8692 - val_loss: 12.7287 - val_accuracy: 0.4627\n",
            "Epoch 9/40\n",
            "7/8 [=========================>....] - ETA: 0s - loss: 0.2941 - accuracy: 0.9554\n",
            "Epoch 9: saving model to models_saved/cp.ckpt\n",
            "8/8 [==============================] - 1s 111ms/step - loss: 0.2783 - accuracy: 0.9578 - val_loss: 10.7455 - val_accuracy: 0.5224\n",
            "Epoch 10/40\n",
            "7/8 [=========================>....] - ETA: 0s - loss: 0.6370 - accuracy: 0.9554\n",
            "Epoch 10: saving model to models_saved/cp.ckpt\n",
            "8/8 [==============================] - 1s 82ms/step - loss: 0.6140 - accuracy: 0.9494 - val_loss: 10.2957 - val_accuracy: 0.4925\n",
            "Epoch 11/40\n",
            "7/8 [=========================>....] - ETA: 0s - loss: 1.5090 - accuracy: 0.8616\n",
            "Epoch 11: saving model to models_saved/cp.ckpt\n",
            "8/8 [==============================] - 1s 94ms/step - loss: 1.5037 - accuracy: 0.8650 - val_loss: 23.1631 - val_accuracy: 0.3731\n",
            "Epoch 12/40\n",
            "7/8 [=========================>....] - ETA: 0s - loss: 1.7905 - accuracy: 0.9196\n",
            "Epoch 12: saving model to models_saved/cp.ckpt\n",
            "8/8 [==============================] - 1s 107ms/step - loss: 1.7104 - accuracy: 0.9198 - val_loss: 22.8049 - val_accuracy: 0.4328\n",
            "Epoch 13/40\n",
            "7/8 [=========================>....] - ETA: 0s - loss: 0.1279 - accuracy: 0.9777\n",
            "Epoch 13: saving model to models_saved/cp.ckpt\n",
            "8/8 [==============================] - 1s 85ms/step - loss: 0.1209 - accuracy: 0.9789 - val_loss: 17.5350 - val_accuracy: 0.3731\n",
            "Epoch 14/40\n",
            "7/8 [=========================>....] - ETA: 0s - loss: 0.0414 - accuracy: 0.9955\n",
            "Epoch 14: saving model to models_saved/cp.ckpt\n",
            "8/8 [==============================] - 1s 90ms/step - loss: 0.0392 - accuracy: 0.9958 - val_loss: 18.2596 - val_accuracy: 0.3284\n",
            "Epoch 15/40\n",
            "7/8 [=========================>....] - ETA: 0s - loss: 0.0220 - accuracy: 0.9955    \n",
            "Epoch 15: saving model to models_saved/cp.ckpt\n",
            "8/8 [==============================] - 1s 82ms/step - loss: 0.0208 - accuracy: 0.9958 - val_loss: 18.1477 - val_accuracy: 0.3284\n",
            "Epoch 16/40\n",
            "7/8 [=========================>....] - ETA: 0s - loss: 0.0106 - accuracy: 0.9955\n",
            "Epoch 16: saving model to models_saved/cp.ckpt\n",
            "8/8 [==============================] - 1s 106ms/step - loss: 0.0100 - accuracy: 0.9958 - val_loss: 18.7361 - val_accuracy: 0.3284\n",
            "Epoch 17/40\n",
            "7/8 [=========================>....] - ETA: 0s - loss: 0.0082 - accuracy: 0.9955\n",
            "Epoch 17: saving model to models_saved/cp.ckpt\n",
            "8/8 [==============================] - 1s 80ms/step - loss: 0.0077 - accuracy: 0.9958 - val_loss: 18.9898 - val_accuracy: 0.3433\n",
            "Epoch 18/40\n",
            "7/8 [=========================>....] - ETA: 0s - loss: 0.0067 - accuracy: 0.9911\n",
            "Epoch 18: saving model to models_saved/cp.ckpt\n",
            "8/8 [==============================] - 1s 93ms/step - loss: 0.0063 - accuracy: 0.9916 - val_loss: 19.2352 - val_accuracy: 0.3433\n",
            "Epoch 19/40\n",
            "7/8 [=========================>....] - ETA: 0s - loss: 0.0063 - accuracy: 0.9955    \n",
            "Epoch 19: saving model to models_saved/cp.ckpt\n",
            "8/8 [==============================] - 1s 116ms/step - loss: 0.0059 - accuracy: 0.9958 - val_loss: 19.4892 - val_accuracy: 0.3433\n",
            "Epoch 20/40\n",
            "7/8 [=========================>....] - ETA: 0s - loss: 0.0070 - accuracy: 0.9955\n",
            "Epoch 20: saving model to models_saved/cp.ckpt\n",
            "8/8 [==============================] - 1s 85ms/step - loss: 0.0066 - accuracy: 0.9958 - val_loss: 19.6621 - val_accuracy: 0.3433\n",
            "Epoch 21/40\n",
            "7/8 [=========================>....] - ETA: 0s - loss: 0.0062 - accuracy: 0.9955\n",
            "Epoch 21: saving model to models_saved/cp.ckpt\n",
            "8/8 [==============================] - 1s 85ms/step - loss: 0.0059 - accuracy: 0.9958 - val_loss: 19.6472 - val_accuracy: 0.3433\n",
            "Epoch 22/40\n",
            "7/8 [=========================>....] - ETA: 0s - loss: 0.0070 - accuracy: 0.9911\n",
            "Epoch 22: saving model to models_saved/cp.ckpt\n",
            "8/8 [==============================] - 1s 127ms/step - loss: 0.0066 - accuracy: 0.9916 - val_loss: 19.5662 - val_accuracy: 0.3582\n",
            "Epoch 23/40\n",
            "7/8 [=========================>....] - ETA: 0s - loss: 0.0478 - accuracy: 0.9955\n",
            "Epoch 23: saving model to models_saved/cp.ckpt\n",
            "8/8 [==============================] - 1s 89ms/step - loss: 0.0452 - accuracy: 0.9958 - val_loss: 18.8282 - val_accuracy: 0.3881\n",
            "Epoch 24/40\n",
            "7/8 [=========================>....] - ETA: 0s - loss: 0.6533 - accuracy: 0.9375\n",
            "Epoch 24: saving model to models_saved/cp.ckpt\n",
            "8/8 [==============================] - 1s 91ms/step - loss: 0.6177 - accuracy: 0.9409 - val_loss: 6.8964 - val_accuracy: 0.4478\n",
            "Epoch 25/40\n",
            "7/8 [=========================>....] - ETA: 0s - loss: 0.2255 - accuracy: 0.9643\n",
            "Epoch 25: saving model to models_saved/cp.ckpt\n",
            "8/8 [==============================] - 1s 111ms/step - loss: 0.2480 - accuracy: 0.9620 - val_loss: 15.6704 - val_accuracy: 0.3731\n",
            "Epoch 26/40\n",
            "7/8 [=========================>....] - ETA: 0s - loss: 0.0528 - accuracy: 0.9911\n",
            "Epoch 26: saving model to models_saved/cp.ckpt\n",
            "8/8 [==============================] - 1s 86ms/step - loss: 0.0499 - accuracy: 0.9916 - val_loss: 15.9840 - val_accuracy: 0.3731\n",
            "Epoch 27/40\n",
            "7/8 [=========================>....] - ETA: 0s - loss: 0.0084 - accuracy: 0.9955\n",
            "Epoch 27: saving model to models_saved/cp.ckpt\n",
            "8/8 [==============================] - 1s 90ms/step - loss: 0.0079 - accuracy: 0.9958 - val_loss: 16.1733 - val_accuracy: 0.3731\n",
            "Epoch 28/40\n",
            "7/8 [=========================>....] - ETA: 0s - loss: 0.0068 - accuracy: 0.9955\n",
            "Epoch 28: saving model to models_saved/cp.ckpt\n",
            "8/8 [==============================] - 1s 109ms/step - loss: 0.0080 - accuracy: 0.9958 - val_loss: 9.3282 - val_accuracy: 0.5075\n",
            "Epoch 29/40\n",
            "7/8 [=========================>....] - ETA: 0s - loss: 0.5323 - accuracy: 0.9286\n",
            "Epoch 29: saving model to models_saved/cp.ckpt\n",
            "8/8 [==============================] - 1s 81ms/step - loss: 0.5031 - accuracy: 0.9325 - val_loss: 4.0775 - val_accuracy: 0.5075\n",
            "Epoch 30/40\n",
            "7/8 [=========================>....] - ETA: 0s - loss: 0.1576 - accuracy: 0.9866\n",
            "Epoch 30: saving model to models_saved/cp.ckpt\n",
            "8/8 [==============================] - 1s 95ms/step - loss: 0.1491 - accuracy: 0.9873 - val_loss: 5.3470 - val_accuracy: 0.3433\n",
            "Epoch 31/40\n",
            "7/8 [=========================>....] - ETA: 0s - loss: 0.3891 - accuracy: 0.9643\n",
            "Epoch 31: saving model to models_saved/cp.ckpt\n",
            "8/8 [==============================] - 1s 90ms/step - loss: 0.3807 - accuracy: 0.9578 - val_loss: 3.9891 - val_accuracy: 0.5224\n",
            "Epoch 32/40\n",
            "7/8 [=========================>....] - ETA: 0s - loss: 0.1489 - accuracy: 0.9777\n",
            "Epoch 32: saving model to models_saved/cp.ckpt\n",
            "8/8 [==============================] - 1s 85ms/step - loss: 0.1451 - accuracy: 0.9747 - val_loss: 4.1560 - val_accuracy: 0.3731\n",
            "Epoch 33/40\n",
            "7/8 [=========================>....] - ETA: 0s - loss: 0.0142 - accuracy: 0.9911\n",
            "Epoch 33: saving model to models_saved/cp.ckpt\n",
            "8/8 [==============================] - 1s 86ms/step - loss: 0.0134 - accuracy: 0.9916 - val_loss: 3.9819 - val_accuracy: 0.4627\n",
            "Epoch 34/40\n",
            "7/8 [=========================>....] - ETA: 0s - loss: 0.0063 - accuracy: 0.9955    \n",
            "Epoch 34: saving model to models_saved/cp.ckpt\n",
            "8/8 [==============================] - 1s 92ms/step - loss: 0.0059 - accuracy: 0.9958 - val_loss: 3.9071 - val_accuracy: 0.4776\n",
            "Epoch 35/40\n",
            "7/8 [=========================>....] - ETA: 0s - loss: 0.0070 - accuracy: 0.9955\n",
            "Epoch 35: saving model to models_saved/cp.ckpt\n",
            "8/8 [==============================] - 1s 127ms/step - loss: 0.0066 - accuracy: 0.9958 - val_loss: 3.9201 - val_accuracy: 0.4925\n",
            "Epoch 36/40\n",
            "7/8 [=========================>....] - ETA: 0s - loss: 0.0066 - accuracy: 0.9955\n",
            "Epoch 36: saving model to models_saved/cp.ckpt\n",
            "8/8 [==============================] - 1s 86ms/step - loss: 0.0063 - accuracy: 0.9958 - val_loss: 3.9171 - val_accuracy: 0.5373\n",
            "Epoch 37/40\n",
            "7/8 [=========================>....] - ETA: 0s - loss: 0.0031 - accuracy: 1.0000\n",
            "Epoch 37: saving model to models_saved/cp.ckpt\n",
            "8/8 [==============================] - 1s 87ms/step - loss: 0.0063 - accuracy: 0.9958 - val_loss: 3.9838 - val_accuracy: 0.5522\n",
            "Epoch 38/40\n",
            "7/8 [=========================>....] - ETA: 0s - loss: 0.0070 - accuracy: 0.9955\n",
            "Epoch 38: saving model to models_saved/cp.ckpt\n",
            "8/8 [==============================] - 1s 125ms/step - loss: 0.0066 - accuracy: 0.9958 - val_loss: 3.9548 - val_accuracy: 0.5522\n",
            "Epoch 39/40\n",
            "7/8 [=========================>....] - ETA: 0s - loss: 0.0065 - accuracy: 0.9955\n",
            "Epoch 39: saving model to models_saved/cp.ckpt\n",
            "8/8 [==============================] - 1s 92ms/step - loss: 0.0061 - accuracy: 0.9958 - val_loss: 3.9645 - val_accuracy: 0.5522\n",
            "Epoch 40/40\n",
            "7/8 [=========================>....] - ETA: 0s - loss: 0.0065 - accuracy: 0.9955\n",
            "Epoch 40: saving model to models_saved/cp.ckpt\n",
            "8/8 [==============================] - 1s 91ms/step - loss: 0.0062 - accuracy: 0.9958 - val_loss: 3.9302 - val_accuracy: 0.5522\n"
          ]
        }
      ]
    },
    {
      "cell_type": "code",
      "source": [
        "#Saving entire model\n",
        "cnn_model.save('models_saved/GPU_model2.h5')"
      ],
      "metadata": {
        "id": "0L3Ag1MwmC6s"
      },
      "execution_count": null,
      "outputs": []
    },
    {
      "cell_type": "code",
      "source": [
        "#plot the training and validation accuracy and loss at each epoch\n",
        "loss = history.history['loss']\n",
        "val_loss = history.history['val_loss']\n",
        "epochs = range(1, len(loss) + 1)\n",
        "plt.plot(epochs, loss, 'y', label='Training loss')\n",
        "plt.plot(epochs, val_loss, 'r', label='Validation loss')\n",
        "plt.title('Training and validation loss')\n",
        "plt.xlabel('Epochs')\n",
        "plt.ylabel('Loss')\n",
        "plt.legend()\n",
        "plt.show()"
      ],
      "metadata": {
        "colab": {
          "base_uri": "https://localhost:8080/",
          "height": 295
        },
        "id": "AfpVdugPmGYg",
        "outputId": "07ed8ed6-b565-41c3-a2a1-df5db63a9b86"
      },
      "execution_count": null,
      "outputs": [
        {
          "output_type": "display_data",
          "data": {
            "text/plain": [
              "<Figure size 432x288 with 1 Axes>"
            ],
            "image/png": "[encoded data removed]"
          },
          "metadata": {
            "needs_background": "light"
          }
        }
      ]
    },
    {
      "cell_type": "code",
      "source": [
        "accuracy = history.history['accuracy']\n",
        "val_accuracy = history.history['val_accuracy']\n",
        "plt.plot(epochs, accuracy, 'y', label='Training acc')\n",
        "plt.plot(epochs, val_accuracy, 'r', label='Validation acc')\n",
        "plt.title('Training and validation accuracy')\n",
        "plt.xlabel('Epochs')\n",
        "plt.ylabel('Accuracy')\n",
        "plt.legend()\n",
        "plt.show()"
      ],
      "metadata": {
        "colab": {
          "base_uri": "https://localhost:8080/",
          "height": 295
        },
        "id": "A3acBm7AmQOE",
        "outputId": "c31cb9f8-45e8-4cbf-e343-5f74b7f4a4eb"
      },
      "execution_count": null,
      "outputs": [
        {
          "output_type": "display_data",
          "data": {
            "text/plain": [
              "<Figure size 432x288 with 1 Axes>"
            ],
            "image/png": "[encoded data removed]"
          },
          "metadata": {
            "needs_background": "light"
          }
        }
      ]
    },
    {
      "cell_type": "code",
      "source": [
        "prediction_NN = cnn_model.predict(x_validation)\n",
        "prediction_NN = np.argmax(prediction_NN, axis=-1)\n",
        "prediction_NN = le.inverse_transform(prediction_NN)"
      ],
      "metadata": {
        "colab": {
          "base_uri": "https://localhost:8080/"
        },
        "id": "pMDdo53mmc9Z",
        "outputId": "525ff994-706d-4012-ccbf-a3ab418899b1"
      },
      "execution_count": null,
      "outputs": [
        {
          "output_type": "stream",
          "name": "stdout",
          "text": [
            "3/3 [==============================] - 0s 13ms/step\n"
          ]
        }
      ]
    },
    {
      "cell_type": "code",
      "source": [
        "#Confusion Matrix - verify accuracy of each class\n",
        "from sklearn.metrics import confusion_matrix\n",
        "cm = confusion_matrix(validation_labels, prediction_NN)\n",
        "print(cm)\n",
        "sns.heatmap(cm, annot=True)"
      ],
      "metadata": {
        "colab": {
          "base_uri": "https://localhost:8080/",
          "height": 387
        },
        "id": "2W9tXXOmmgRR",
        "outputId": "a5353c5c-4f29-4e52-a58f-0f54184e3039"
      },
      "execution_count": null,
      "outputs": [
        {
          "output_type": "stream",
          "name": "stdout",
          "text": [
            "[[ 0  0  0  0  0  0]\n",
            " [ 0  0  0  0  0  0]\n",
            " [ 0  0  0  0  0  0]\n",
            " [15  2  5  0  0  0]\n",
            " [ 8  1 11  0  0  0]\n",
            " [ 4  0 21  0  0  0]]\n"
          ]
        },
        {
          "output_type": "execute_result",
          "data": {
            "text/plain": [
              "<matplotlib.axes._subplots.AxesSubplot at 0x7fdc1a4787f0>"
            ]
          },
          "metadata": {},
          "execution_count": 34
        },
        {
          "output_type": "display_data",
          "data": {
            "text/plain": [
              "<Figure size 432x288 with 2 Axes>"
            ],
            "image/png": "[encoded data removed]"
          },
          "metadata": {
            "needs_background": "light"
          }
        }
      ]
    },
    {
      "cell_type": "code",
      "source": [
        "n=30  #Select the index of image to be loaded for testing\n",
        "img = x_test[n]\n",
        "plt.imshow(img)\n",
        "input_img = np.expand_dims(img, axis=0) #Expand dims so the input is (num images, x, y, c)\n",
        "prediction = np.argmax(cnn_model.predict(input_img))  #argmax to convert categorical back to original\n",
        "prediction = le.inverse_transform([prediction])  #Reverse the label encoder to original name\n",
        "print(\"The prediction for this image is: \", prediction)\n",
        "print(\"The actual label for this image is: \", test_labels[n])"
      ],
      "metadata": {
        "colab": {
          "base_uri": "https://localhost:8080/",
          "height": 320
        },
        "id": "QROpZeBImjDa",
        "outputId": "d8b2eaa7-a136-40c9-de17-1ba0fc599a56"
      },
      "execution_count": null,
      "outputs": [
        {
          "output_type": "stream",
          "name": "stdout",
          "text": [
            "1/1 [==============================] - 0s 22ms/step\n",
            "The prediction for this image is:  ['datasetSorted/train/Maturity Stage']\n",
            "The actual label for this image is:  datasetSorted/test/Maturity Stage\n"
          ]
        },
        {
          "output_type": "display_data",
          "data": {
            "text/plain": [
              "<Figure size 432x288 with 1 Axes>"
            ],
            "image/png": "[encoded data removed]"
          },
          "metadata": {
            "needs_background": "light"
          }
        }
      ]
    },
    {
      "cell_type": "code",
      "source": [
        "!pip install tf-nightly scipy"
      ],
      "metadata": {
        "colab": {
          "base_uri": "https://localhost:8080/",
          "height": 1000
        },
        "id": "Lv2UzRcPnHn6",
        "outputId": "521fbfdf-b40a-415b-e410-bae6c741e758"
      },
      "execution_count": null,
      "outputs": [
        {
          "output_type": "stream",
          "name": "stdout",
          "text": [
            "Looking in indexes: https://pypi.org/simple, https://us-python.pkg.dev/colab-wheels/public/simple/\n",
            "Collecting tf-nightly\n",
            "  Downloading tf_nightly-2.12.0.dev20221207-cp38-cp38-manylinux_2_17_x86_64.manylinux2014_x86_64.whl (554.0 MB)\n",
            "\u001b[2K     \u001b[90m━━━━━━━━━━━━━━━━━━━━━━━━━━━━━━━━━━━━━━━\u001b[0m \u001b[32m554.0/554.0 MB\u001b[0m \u001b[31m2.9 MB/s\u001b[0m eta \u001b[36m0:00:00\u001b[0m\n",
            "\u001b[?25hRequirement already satisfied: scipy in /usr/local/lib/python3.8/dist-packages (1.7.3)\n",
            "Requirement already satisfied: protobuf<3.20,>=3.9.2 in /usr/local/lib/python3.8/dist-packages (from tf-nightly) (3.19.6)\n",
            "Requirement already satisfied: setuptools in /usr/local/lib/python3.8/dist-packages (from tf-nightly) (57.4.0)\n",
            "Requirement already satisfied: jax>=0.3.15 in /usr/local/lib/python3.8/dist-packages (from tf-nightly) (0.3.25)\n",
            "Requirement already satisfied: flatbuffers>=2.0 in /usr/local/lib/python3.8/dist-packages (from tf-nightly) (22.12.6)\n",
            "Requirement already satisfied: packaging in /usr/local/lib/python3.8/dist-packages (from tf-nightly) (21.3)\n",
            "Collecting keras-nightly~=2.12.0.dev\n",
            "  Downloading keras_nightly-2.12.0.dev2022120708-py2.py3-none-any.whl (1.7 MB)\n",
            "\u001b[2K     \u001b[90m━━━━━━━━━━━━━━━━━━━━━━━━━━━━━━━━━━━━━━━━\u001b[0m \u001b[32m1.7/1.7 MB\u001b[0m \u001b[31m71.7 MB/s\u001b[0m eta \u001b[36m0:00:00\u001b[0m\n",
            "\u001b[?25hRequirement already satisfied: numpy>=1.20 in /usr/local/lib/python3.8/dist-packages (from tf-nightly) (1.21.6)\n",
            "Requirement already satisfied: absl-py>=1.0.0 in /usr/local/lib/python3.8/dist-packages (from tf-nightly) (1.3.0)\n",
            "Requirement already satisfied: tensorflow-io-gcs-filesystem>=0.23.1 in /usr/local/lib/python3.8/dist-packages (from tf-nightly) (0.28.0)\n",
            "Requirement already satisfied: astunparse>=1.6.0 in /usr/local/lib/python3.8/dist-packages (from tf-nightly) (1.6.3)\n",
            "Requirement already satisfied: libclang>=13.0.0 in /usr/local/lib/python3.8/dist-packages (from tf-nightly) (14.0.6)\n",
            "Requirement already satisfied: grpcio<2.0,>=1.24.3 in /usr/local/lib/python3.8/dist-packages (from tf-nightly) (1.50.0)\n",
            "Requirement already satisfied: wrapt>=1.11.0 in /usr/local/lib/python3.8/dist-packages (from tf-nightly) (1.14.1)\n",
            "Requirement already satisfied: typing-extensions>=3.6.6 in /usr/local/lib/python3.8/dist-packages (from tf-nightly) (4.1.1)\n",
            "Requirement already satisfied: opt-einsum>=2.3.2 in /usr/local/lib/python3.8/dist-packages (from tf-nightly) (3.3.0)\n",
            "Requirement already satisfied: termcolor>=1.1.0 in /usr/local/lib/python3.8/dist-packages (from tf-nightly) (2.1.1)\n",
            "Requirement already satisfied: h5py>=2.9.0 in /usr/local/lib/python3.8/dist-packages (from tf-nightly) (3.1.0)\n",
            "Requirement already satisfied: gast<=0.4.0,>=0.2.1 in /usr/local/lib/python3.8/dist-packages (from tf-nightly) (0.4.0)\n",
            "Requirement already satisfied: six>=1.12.0 in /usr/local/lib/python3.8/dist-packages (from tf-nightly) (1.15.0)\n",
            "Collecting tf-estimator-nightly~=2.12.0.dev\n",
            "  Downloading tf_estimator_nightly-2.12.0.dev2022120709-py2.py3-none-any.whl (439 kB)\n",
            "\u001b[2K     \u001b[90m━━━━━━━━━━━━━━━━━━━━━━━━━━━━━━━━━━━━━━\u001b[0m \u001b[32m439.4/439.4 kB\u001b[0m \u001b[31m46.9 MB/s\u001b[0m eta \u001b[36m0:00:00\u001b[0m\n",
            "\u001b[?25hRequirement already satisfied: google-pasta>=0.1.1 in /usr/local/lib/python3.8/dist-packages (from tf-nightly) (0.2.0)\n",
            "Collecting tb-nightly~=2.12.0.a\n",
            "  Downloading tb_nightly-2.12.0a20221207-py3-none-any.whl (5.7 MB)\n",
            "\u001b[2K     \u001b[90m━━━━━━━━━━━━━━━━━━━━━━━━━━━━━━━━━━━━━━━━\u001b[0m \u001b[32m5.7/5.7 MB\u001b[0m \u001b[31m88.4 MB/s\u001b[0m eta \u001b[36m0:00:00\u001b[0m\n",
            "\u001b[?25hRequirement already satisfied: wheel<1.0,>=0.23.0 in /usr/local/lib/python3.8/dist-packages (from astunparse>=1.6.0->tf-nightly) (0.38.4)\n",
            "Requirement already satisfied: google-auth<3,>=1.6.3 in /usr/local/lib/python3.8/dist-packages (from tb-nightly~=2.12.0.a->tf-nightly) (2.14.1)\n",
            "Requirement already satisfied: requests<3,>=2.21.0 in /usr/local/lib/python3.8/dist-packages (from tb-nightly~=2.12.0.a->tf-nightly) (2.23.0)\n",
            "Requirement already satisfied: google-auth-oauthlib<0.5,>=0.4.1 in /usr/local/lib/python3.8/dist-packages (from tb-nightly~=2.12.0.a->tf-nightly) (0.4.6)\n",
            "Requirement already satisfied: markdown>=2.6.8 in /usr/local/lib/python3.8/dist-packages (from tb-nightly~=2.12.0.a->tf-nightly) (3.4.1)\n",
            "Requirement already satisfied: tensorboard-plugin-wit>=1.6.0 in /usr/local/lib/python3.8/dist-packages (from tb-nightly~=2.12.0.a->tf-nightly) (1.8.1)\n",
            "Requirement already satisfied: werkzeug>=1.0.1 in /usr/local/lib/python3.8/dist-packages (from tb-nightly~=2.12.0.a->tf-nightly) (1.0.1)\n",
            "Requirement already satisfied: tensorboard-data-server<0.7.0,>=0.6.0 in /usr/local/lib/python3.8/dist-packages (from tb-nightly~=2.12.0.a->tf-nightly) (0.6.1)\n",
            "Requirement already satisfied: pyparsing!=3.0.5,>=2.0.2 in /usr/local/lib/python3.8/dist-packages (from packaging->tf-nightly) (3.0.9)\n",
            "Requirement already satisfied: pyasn1-modules>=0.2.1 in /usr/local/lib/python3.8/dist-packages (from google-auth<3,>=1.6.3->tb-nightly~=2.12.0.a->tf-nightly) (0.2.8)\n",
            "Requirement already satisfied: cachetools<6.0,>=2.0.0 in /usr/local/lib/python3.8/dist-packages (from google-auth<3,>=1.6.3->tb-nightly~=2.12.0.a->tf-nightly) (5.2.0)\n",
            "Requirement already satisfied: rsa<5,>=3.1.4 in /usr/local/lib/python3.8/dist-packages (from google-auth<3,>=1.6.3->tb-nightly~=2.12.0.a->tf-nightly) (4.9)\n",
            "Requirement already satisfied: requests-oauthlib>=0.7.0 in /usr/local/lib/python3.8/dist-packages (from google-auth-oauthlib<0.5,>=0.4.1->tb-nightly~=2.12.0.a->tf-nightly) (1.3.1)\n",
            "Requirement already satisfied: importlib-metadata>=4.4 in /usr/local/lib/python3.8/dist-packages (from markdown>=2.6.8->tb-nightly~=2.12.0.a->tf-nightly) (4.13.0)\n",
            "Requirement already satisfied: certifi>=2017.4.17 in /usr/local/lib/python3.8/dist-packages (from requests<3,>=2.21.0->tb-nightly~=2.12.0.a->tf-nightly) (2022.9.24)\n",
            "Requirement already satisfied: idna<3,>=2.5 in /usr/local/lib/python3.8/dist-packages (from requests<3,>=2.21.0->tb-nightly~=2.12.0.a->tf-nightly) (2.10)\n",
            "Requirement already satisfied: urllib3!=1.25.0,!=1.25.1,<1.26,>=1.21.1 in /usr/local/lib/python3.8/dist-packages (from requests<3,>=2.21.0->tb-nightly~=2.12.0.a->tf-nightly) (1.24.3)\n",
            "Requirement already satisfied: chardet<4,>=3.0.2 in /usr/local/lib/python3.8/dist-packages (from requests<3,>=2.21.0->tb-nightly~=2.12.0.a->tf-nightly) (3.0.4)\n",
            "Requirement already satisfied: zipp>=0.5 in /usr/local/lib/python3.8/dist-packages (from importlib-metadata>=4.4->markdown>=2.6.8->tb-nightly~=2.12.0.a->tf-nightly) (3.10.0)\n",
            "Requirement already satisfied: pyasn1<0.5.0,>=0.4.6 in /usr/local/lib/python3.8/dist-packages (from pyasn1-modules>=0.2.1->google-auth<3,>=1.6.3->tb-nightly~=2.12.0.a->tf-nightly) (0.4.8)\n",
            "Requirement already satisfied: oauthlib>=3.0.0 in /usr/local/lib/python3.8/dist-packages (from requests-oauthlib>=0.7.0->google-auth-oauthlib<0.5,>=0.4.1->tb-nightly~=2.12.0.a->tf-nightly) (3.2.2)\n",
            "Installing collected packages: tf-estimator-nightly, keras-nightly, tb-nightly, tf-nightly\n",
            "Successfully installed keras-nightly-2.12.0.dev2022120708 tb-nightly-2.12.0a20221207 tf-estimator-nightly-2.12.0.dev2022120709 tf-nightly-2.12.0.dev20221207\n",
            "\u001b[33mWARNING: Running pip as the 'root' user can result in broken permissions and conflicting behaviour with the system package manager. It is recommended to use a virtual environment instead: https://pip.pypa.io/warnings/venv\u001b[0m\u001b[33m\n",
            "\u001b[0m"
          ]
        },
        {
          "output_type": "display_data",
          "data": {
            "application/vnd.colab-display-data+json": {
              "pip_warning": {
                "packages": [
                  "keras",
                  "tensorboard",
                  "tensorflow"
                ]
              }
            }
          },
          "metadata": {}
        }
      ]
    },
    {
      "cell_type": "code",
      "source": [
        "from keras.models import load_model\n",
        "new_model = load_model('models_saved/GPU_model2.h5')"
      ],
      "metadata": {
        "id": "AHCm-1b2n0B2"
      },
      "execution_count": null,
      "outputs": []
    },
    {
      "cell_type": "code",
      "source": [
        "import tensorflow as tf\n",
        "converter = tf.lite.TFLiteConverter.from_keras_model(new_model)"
      ],
      "metadata": {
        "id": "7Ym2KW9wnpF2"
      },
      "execution_count": null,
      "outputs": []
    },
    {
      "cell_type": "code",
      "source": [
        "tflite_model = converter.convert()\n",
        "\n",
        "with open(\"model_harvestReady.tflite\", 'wb') as f:\n",
        "    f.write(tflite_model)"
      ],
      "metadata": {
        "colab": {
          "base_uri": "https://localhost:8080/"
        },
        "id": "xXT7wQ_xn77j",
        "outputId": "600201ab-aa06-496d-99f3-c1f6e4b26b8f"
      },
      "execution_count": null,
      "outputs": [
        {
          "output_type": "stream",
          "name": "stderr",
          "text": [
            "WARNING:absl:Found untraced functions such as _jit_compiled_convolution_op, _jit_compiled_convolution_op, _jit_compiled_convolution_op, _jit_compiled_convolution_op, _update_step_xla while saving (showing 5 of 5). These functions will not be directly callable after loading.\n"
          ]
        }
      ]
    }
  ],
  "metadata": {
    "kernelspec": {
      "display_name": "Python 3",
      "language": "python",
      "name": "python3"
    },
    "language_info": {
      "codemirror_mode": {
        "name": "ipython",
        "version": 2
      },
      "file_extension": ".py",
      "mimetype": "text/x-python",
      "name": "python",
      "nbconvert_exporter": "python",
      "pygments_lexer": "ipython2",
      "version": "2.7.6"
    },
    "colab": {
      "provenance": []
    },
    "accelerator": "GPU",
    "gpuClass": "standard"
  },
  "nbformat": 4,
  "nbformat_minor": 0
}